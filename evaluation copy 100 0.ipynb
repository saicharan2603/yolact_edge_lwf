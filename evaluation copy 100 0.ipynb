{
 "cells": [
  {
   "cell_type": "code",
   "execution_count": 1,
   "metadata": {
    "vscode": {
     "languageId": "shellscript"
    }
   },
   "outputs": [
    {
     "name": "stdout",
     "output_type": "stream",
     "text": [
      "/home/saicharanm22/.local/lib/python3.10/site-packages/torch/cuda/__init__.py:497: UserWarning: Can't initialize NVML\n",
      "  warnings.warn(\"Can't initialize NVML\")\n",
      "loading annotations into memory...\n",
      "Done (t=1.33s)\n",
      "creating index...\n",
      "index created!\n",
      "\u001b[32m[04/20 12:11:17 yolact.eval]: \u001b[0mLoading model...\n",
      "\u001b[32m[04/20 12:11:21 yolact.eval]: \u001b[0mModel loaded.\n",
      "\n",
      "Processing Images  ██████████████████████████████    100 /    100 (100.00%)     5.77 fps        \n",
      "Saving data...\n",
      "\u001b[32m[04/20 12:11:54 yolact.eval]: \u001b[0mCalculating mAP...\n",
      "\u001b[32m[04/20 12:11:54 yolact.eval]: \u001b[0m\n",
      "       |  all  |  .50  |  .55  |  .60  |  .65  |  .70  |  .75  |  .80  |  .85  |  .90  |  .95  |\n",
      "-------+-------+-------+-------+-------+-------+-------+-------+-------+-------+-------+-------+\n",
      "   box | 14.18 | 34.28 | 31.25 | 22.27 | 18.46 | 14.65 | 12.30 |  4.83 |  3.69 |  0.03 |  0.01 |\n",
      "  mask | 18.38 | 36.61 | 33.18 | 29.04 | 26.38 | 22.76 | 17.19 | 11.97 |  5.02 |  1.41 |  0.21 |\n",
      "-------+-------+-------+-------+-------+-------+-------+-------+-------+-------+-------+-------+\n",
      "/home/saicharanm22/.local/lib/python3.10/site-packages/torch/cuda/__init__.py:497: UserWarning: Can't initialize NVML\n",
      "  warnings.warn(\"Can't initialize NVML\")\n",
      "loading annotations into memory...\n",
      "Done (t=0.01s)\n",
      "creating index...\n",
      "index created!\n",
      "\u001b[32m[04/20 12:12:08 yolact.eval]: \u001b[0mLoading model...\n",
      "\u001b[32m[04/20 12:12:12 yolact.eval]: \u001b[0mModel loaded.\n",
      "\n",
      "Processing Images  ██████████████████████████████     65 /     65 (100.00%)     6.34 fps        \n",
      "Saving data...\n",
      "\u001b[32m[04/20 12:12:31 yolact.eval]: \u001b[0mCalculating mAP...\n",
      "\u001b[32m[04/20 12:12:31 yolact.eval]: \u001b[0m\n",
      "       |  all  |  .50  |  .55  |  .60  |  .65  |  .70  |  .75  |  .80  |  .85  |  .90  |  .95  |\n",
      "-------+-------+-------+-------+-------+-------+-------+-------+-------+-------+-------+-------+\n",
      "   box | 22.96 | 39.94 | 38.50 | 35.31 | 33.34 | 29.82 | 23.35 | 16.16 | 10.13 |  2.96 |  0.13 |\n",
      "  mask | 26.62 | 37.82 | 37.28 | 36.40 | 33.93 | 33.15 | 30.84 | 24.12 | 18.34 | 10.60 |  3.76 |\n",
      "-------+-------+-------+-------+-------+-------+-------+-------+-------+-------+-------+-------+\n",
      "/home/saicharanm22/.local/lib/python3.10/site-packages/torch/cuda/__init__.py:497: UserWarning: Can't initialize NVML\n",
      "  warnings.warn(\"Can't initialize NVML\")\n",
      "loading annotations into memory...\n",
      "Done (t=0.00s)\n",
      "creating index...\n",
      "index created!\n",
      "\u001b[32m[04/20 12:12:42 yolact.eval]: \u001b[0mLoading model...\n",
      "\u001b[32m[04/20 12:12:47 yolact.eval]: \u001b[0mModel loaded.\n",
      "\n",
      "Processing Images  ████████████████████████░░░░░░     54 /     65 (83.08%)     6.02 fps        Warning: Augmentation output an example with no ground truth. Resampling...\n",
      "Processing Images  ██████████████████████████████     65 /     65 (100.00%)     6.29 fps        \n",
      "Saving data...\n",
      "\u001b[32m[04/20 12:13:09 yolact.eval]: \u001b[0mCalculating mAP...\n",
      "\u001b[32m[04/20 12:13:09 yolact.eval]: \u001b[0m\n",
      "       |  all  |  .50  |  .55  |  .60  |  .65  |  .70  |  .75  |  .80  |  .85  |  .90  |  .95  |\n",
      "-------+-------+-------+-------+-------+-------+-------+-------+-------+-------+-------+-------+\n",
      "   box |  0.00 |  0.00 |  0.00 |  0.00 |  0.00 |  0.00 |  0.00 |  0.00 |  0.00 |  0.00 |  0.00 |\n",
      "  mask |  0.00 |  0.00 |  0.00 |  0.00 |  0.00 |  0.00 |  0.00 |  0.00 |  0.00 |  0.00 |  0.00 |\n",
      "-------+-------+-------+-------+-------+-------+-------+-------+-------+-------+-------+-------+\n"
     ]
    }
   ],
   "source": [
    "!python3 eval.py --trained_model=weights/yolact_edge_lvis_lwf_0_5000.pth  --disable_tensorrt --config=yolact_edge_config_lwf --max_images=100\n",
    "!python3 eval.py --trained_model=weights/yolact_edge_lvis_lwf_0_5000.pth  --disable_tensorrt --config=yolact_edge_lvis_config_lwf\n",
    "!python3 eval.py --trained_model=weights/yolact_edge_lvis_lwf_0_5000.pth  --disable_tensorrt --config=yolact_edge_lvis_config"
   ]
  },
  {
   "cell_type": "code",
   "execution_count": 2,
   "metadata": {
    "vscode": {
     "languageId": "shellscript"
    }
   },
   "outputs": [
    {
     "name": "stdout",
     "output_type": "stream",
     "text": [
      "/home/saicharanm22/.local/lib/python3.10/site-packages/torch/cuda/__init__.py:497: UserWarning: Can't initialize NVML\n",
      "  warnings.warn(\"Can't initialize NVML\")\n",
      "loading annotations into memory...\n",
      "Done (t=1.44s)\n",
      "creating index...\n",
      "index created!\n",
      "\u001b[32m[04/20 12:13:20 yolact.eval]: \u001b[0mLoading model...\n",
      "\u001b[32m[04/20 12:13:24 yolact.eval]: \u001b[0mModel loaded.\n",
      "\n",
      "Processing Images  ██████████████████████████████    100 /    100 (100.00%)     6.22 fps        \n",
      "Saving data...\n",
      "\u001b[32m[04/20 12:13:54 yolact.eval]: \u001b[0mCalculating mAP...\n",
      "\u001b[32m[04/20 12:13:54 yolact.eval]: \u001b[0m\n",
      "       |  all  |  .50  |  .55  |  .60  |  .65  |  .70  |  .75  |  .80  |  .85  |  .90  |  .95  |\n",
      "-------+-------+-------+-------+-------+-------+-------+-------+-------+-------+-------+-------+\n",
      "   box | 15.98 | 38.53 | 33.67 | 29.38 | 24.43 | 15.82 |  9.70 |  5.20 |  2.33 |  0.76 |  0.01 |\n",
      "  mask | 18.69 | 35.46 | 34.64 | 31.68 | 28.71 | 22.92 | 17.18 | 11.46 |  3.88 |  0.98 |  0.00 |\n",
      "-------+-------+-------+-------+-------+-------+-------+-------+-------+-------+-------+-------+\n",
      "/home/saicharanm22/.local/lib/python3.10/site-packages/torch/cuda/__init__.py:497: UserWarning: Can't initialize NVML\n",
      "  warnings.warn(\"Can't initialize NVML\")\n",
      "loading annotations into memory...\n",
      "Done (t=0.01s)\n",
      "creating index...\n",
      "index created!\n",
      "\u001b[32m[04/20 12:14:03 yolact.eval]: \u001b[0mLoading model...\n",
      "\u001b[32m[04/20 12:14:09 yolact.eval]: \u001b[0mModel loaded.\n",
      "\n",
      "Processing Images  ██████████████████████████████     65 /     65 (100.00%)     6.51 fps        \n",
      "Saving data...\n",
      "\u001b[32m[04/20 12:14:31 yolact.eval]: \u001b[0mCalculating mAP...\n",
      "\u001b[32m[04/20 12:14:31 yolact.eval]: \u001b[0m\n",
      "       |  all  |  .50  |  .55  |  .60  |  .65  |  .70  |  .75  |  .80  |  .85  |  .90  |  .95  |\n",
      "-------+-------+-------+-------+-------+-------+-------+-------+-------+-------+-------+-------+\n",
      "   box | 24.65 | 39.06 | 38.24 | 36.76 | 35.27 | 31.85 | 29.77 | 19.50 | 10.14 |  4.56 |  1.34 |\n",
      "  mask | 26.64 | 36.84 | 36.36 | 35.80 | 34.89 | 33.33 | 28.87 | 26.30 | 20.98 | 11.55 |  1.49 |\n",
      "-------+-------+-------+-------+-------+-------+-------+-------+-------+-------+-------+-------+\n",
      "/home/saicharanm22/.local/lib/python3.10/site-packages/torch/cuda/__init__.py:497: UserWarning: Can't initialize NVML\n",
      "  warnings.warn(\"Can't initialize NVML\")\n",
      "loading annotations into memory...\n",
      "Done (t=0.00s)\n",
      "creating index...\n",
      "index created!\n",
      "\u001b[32m[04/20 12:14:41 yolact.eval]: \u001b[0mLoading model...\n",
      "\u001b[32m[04/20 12:14:45 yolact.eval]: \u001b[0mModel loaded.\n",
      "\n",
      "Processing Images  ████████████████████████░░░░░░     54 /     65 (83.08%)     6.94 fps        Warning: Augmentation output an example with no ground truth. Resampling...\n",
      "Processing Images  ██████████████████████████████     65 /     65 (100.00%)     7.17 fps        \n",
      "Saving data...\n",
      "\u001b[32m[04/20 12:15:04 yolact.eval]: \u001b[0mCalculating mAP...\n",
      "\u001b[32m[04/20 12:15:04 yolact.eval]: \u001b[0m\n",
      "       |  all  |  .50  |  .55  |  .60  |  .65  |  .70  |  .75  |  .80  |  .85  |  .90  |  .95  |\n",
      "-------+-------+-------+-------+-------+-------+-------+-------+-------+-------+-------+-------+\n",
      "   box |  0.00 |  0.00 |  0.00 |  0.00 |  0.00 |  0.00 |  0.00 |  0.00 |  0.00 |  0.00 |  0.00 |\n",
      "  mask |  0.00 |  0.00 |  0.00 |  0.00 |  0.00 |  0.00 |  0.00 |  0.00 |  0.00 |  0.00 |  0.00 |\n",
      "-------+-------+-------+-------+-------+-------+-------+-------+-------+-------+-------+-------+\n"
     ]
    }
   ],
   "source": [
    "!python3 eval.py --trained_model=weights/yolact_edge_lvis_lwf_0_10000.pth   --disable_tensorrt --config=yolact_edge_config_lwf --max_images=100\n",
    "!python3 eval.py --trained_model=weights/yolact_edge_lvis_lwf_0_10000.pth   --disable_tensorrt --config=yolact_edge_lvis_config_lwf\n",
    "!python3 eval.py --trained_model=weights/yolact_edge_lvis_lwf_0_10000.pth  --disable_tensorrt --config=yolact_edge_lvis_config"
   ]
  },
  {
   "cell_type": "code",
   "execution_count": 3,
   "metadata": {
    "vscode": {
     "languageId": "shellscript"
    }
   },
   "outputs": [
    {
     "name": "stdout",
     "output_type": "stream",
     "text": [
      "/home/saicharanm22/.local/lib/python3.10/site-packages/torch/cuda/__init__.py:497: UserWarning: Can't initialize NVML\n",
      "  warnings.warn(\"Can't initialize NVML\")\n",
      "loading annotations into memory...\n",
      "Done (t=1.31s)\n",
      "creating index...\n",
      "index created!\n",
      "\u001b[32m[04/20 12:15:19 yolact.eval]: \u001b[0mLoading model...\n",
      "\u001b[32m[04/20 12:15:23 yolact.eval]: \u001b[0mModel loaded.\n",
      "\n",
      "Processing Images  ██████████████████████████████    100 /    100 (100.00%)     6.67 fps        \n",
      "Saving data...\n",
      "\u001b[32m[04/20 12:15:52 yolact.eval]: \u001b[0mCalculating mAP...\n",
      "\u001b[32m[04/20 12:15:52 yolact.eval]: \u001b[0m\n",
      "       |  all  |  .50  |  .55  |  .60  |  .65  |  .70  |  .75  |  .80  |  .85  |  .90  |  .95  |\n",
      "-------+-------+-------+-------+-------+-------+-------+-------+-------+-------+-------+-------+\n",
      "   box | 14.25 | 35.20 | 31.87 | 25.43 | 20.33 | 13.09 |  8.39 |  5.81 |  1.83 |  0.58 |  0.00 |\n",
      "  mask | 18.09 | 36.40 | 32.66 | 30.78 | 26.45 | 20.26 | 16.49 | 11.04 |  5.46 |  1.41 |  0.00 |\n",
      "-------+-------+-------+-------+-------+-------+-------+-------+-------+-------+-------+-------+\n",
      "/home/saicharanm22/.local/lib/python3.10/site-packages/torch/cuda/__init__.py:497: UserWarning: Can't initialize NVML\n",
      "  warnings.warn(\"Can't initialize NVML\")\n",
      "loading annotations into memory...\n",
      "Done (t=0.01s)\n",
      "creating index...\n",
      "index created!\n",
      "\u001b[32m[04/20 12:16:01 yolact.eval]: \u001b[0mLoading model...\n",
      "\u001b[32m[04/20 12:16:05 yolact.eval]: \u001b[0mModel loaded.\n",
      "\n",
      "Processing Images  ██████████████████████████████     65 /     65 (100.00%)     7.95 fps        \n",
      "Saving data...\n",
      "\u001b[32m[04/20 12:16:23 yolact.eval]: \u001b[0mCalculating mAP...\n",
      "\u001b[32m[04/20 12:16:23 yolact.eval]: \u001b[0m\n",
      "       |  all  |  .50  |  .55  |  .60  |  .65  |  .70  |  .75  |  .80  |  .85  |  .90  |  .95  |\n",
      "-------+-------+-------+-------+-------+-------+-------+-------+-------+-------+-------+-------+\n",
      "   box | 21.89 | 36.89 | 36.46 | 35.03 | 33.54 | 27.97 | 23.16 | 15.72 |  7.89 |  2.24 |  0.04 |\n",
      "  mask | 24.90 | 35.96 | 34.22 | 31.99 | 31.78 | 29.39 | 27.35 | 25.99 | 18.64 | 10.80 |  2.89 |\n",
      "-------+-------+-------+-------+-------+-------+-------+-------+-------+-------+-------+-------+\n"
     ]
    }
   ],
   "source": [
    "!python3 eval.py --trained_model=weights/yolact_edge_lvis_lwf_1_15000.pth  --disable_tensorrt --config=yolact_edge_config_lwf --max_images=100\n",
    "!python3 eval.py --trained_model=weights/yolact_edge_lvis_lwf_1_15000.pth  --disable_tensorrt --config=yolact_edge_lvis_config_lwf"
   ]
  },
  {
   "cell_type": "code",
   "execution_count": 4,
   "metadata": {
    "vscode": {
     "languageId": "shellscript"
    }
   },
   "outputs": [
    {
     "name": "stdout",
     "output_type": "stream",
     "text": [
      "/home/saicharanm22/.local/lib/python3.10/site-packages/torch/cuda/__init__.py:497: UserWarning: Can't initialize NVML\n",
      "  warnings.warn(\"Can't initialize NVML\")\n",
      "loading annotations into memory...\n",
      "Done (t=0.97s)\n",
      "creating index...\n",
      "index created!\n",
      "\u001b[32m[04/20 12:16:33 yolact.eval]: \u001b[0mLoading model...\n",
      "\u001b[32m[04/20 12:16:36 yolact.eval]: \u001b[0mModel loaded.\n",
      "\n",
      "Processing Images  ██████████████████████████████    100 /    100 (100.00%)     6.09 fps        \n",
      "Saving data...\n",
      "\u001b[32m[04/20 12:17:05 yolact.eval]: \u001b[0mCalculating mAP...\n",
      "\u001b[32m[04/20 12:17:05 yolact.eval]: \u001b[0m\n",
      "       |  all  |  .50  |  .55  |  .60  |  .65  |  .70  |  .75  |  .80  |  .85  |  .90  |  .95  |\n",
      "-------+-------+-------+-------+-------+-------+-------+-------+-------+-------+-------+-------+\n",
      "   box | 11.36 | 32.50 | 28.15 | 22.25 | 15.15 | 10.42 |  4.03 |  0.79 |  0.21 |  0.09 |  0.00 |\n",
      "  mask | 14.93 | 31.27 | 28.72 | 25.58 | 21.68 | 16.36 | 12.71 |  9.57 |  2.34 |  1.10 |  0.00 |\n",
      "-------+-------+-------+-------+-------+-------+-------+-------+-------+-------+-------+-------+\n",
      "/home/saicharanm22/.local/lib/python3.10/site-packages/torch/cuda/__init__.py:497: UserWarning: Can't initialize NVML\n",
      "  warnings.warn(\"Can't initialize NVML\")\n",
      "loading annotations into memory...\n",
      "Done (t=0.00s)\n",
      "creating index...\n",
      "index created!\n",
      "\u001b[32m[04/20 12:17:14 yolact.eval]: \u001b[0mLoading model...\n",
      "\u001b[32m[04/20 12:17:17 yolact.eval]: \u001b[0mModel loaded.\n",
      "\n",
      "Processing Images  ██████████████████████████████     65 /     65 (100.00%)     7.84 fps        \n",
      "Saving data...\n",
      "\u001b[32m[04/20 12:17:35 yolact.eval]: \u001b[0mCalculating mAP...\n",
      "\u001b[32m[04/20 12:17:35 yolact.eval]: \u001b[0m\n",
      "       |  all  |  .50  |  .55  |  .60  |  .65  |  .70  |  .75  |  .80  |  .85  |  .90  |  .95  |\n",
      "-------+-------+-------+-------+-------+-------+-------+-------+-------+-------+-------+-------+\n",
      "   box | 25.71 | 43.03 | 41.23 | 39.02 | 35.99 | 33.26 | 30.64 | 20.02 | 10.14 |  3.37 |  0.35 |\n",
      "  mask | 29.16 | 41.86 | 41.63 | 40.66 | 39.19 | 34.66 | 29.51 | 27.57 | 21.94 | 11.13 |  3.45 |\n",
      "-------+-------+-------+-------+-------+-------+-------+-------+-------+-------+-------+-------+\n",
      "/home/saicharanm22/.local/lib/python3.10/site-packages/torch/cuda/__init__.py:497: UserWarning: Can't initialize NVML\n",
      "  warnings.warn(\"Can't initialize NVML\")\n",
      "loading annotations into memory...\n",
      "Done (t=0.00s)\n",
      "creating index...\n",
      "index created!\n",
      "\u001b[32m[04/20 12:17:45 yolact.eval]: \u001b[0mLoading model...\n",
      "\u001b[32m[04/20 12:17:50 yolact.eval]: \u001b[0mModel loaded.\n",
      "\n",
      "Processing Images  ████████████████████████░░░░░░     54 /     65 (83.08%)     7.70 fps        Warning: Augmentation output an example with no ground truth. Resampling...\n",
      "Processing Images  ██████████████████████████████     65 /     65 (100.00%)     7.81 fps        \n",
      "Saving data...\n",
      "\u001b[32m[04/20 12:18:09 yolact.eval]: \u001b[0mCalculating mAP...\n",
      "\u001b[32m[04/20 12:18:09 yolact.eval]: \u001b[0m\n",
      "       |  all  |  .50  |  .55  |  .60  |  .65  |  .70  |  .75  |  .80  |  .85  |  .90  |  .95  |\n",
      "-------+-------+-------+-------+-------+-------+-------+-------+-------+-------+-------+-------+\n",
      "   box |  0.00 |  0.00 |  0.00 |  0.00 |  0.00 |  0.00 |  0.00 |  0.00 |  0.00 |  0.00 |  0.00 |\n",
      "  mask |  0.00 |  0.00 |  0.00 |  0.00 |  0.00 |  0.00 |  0.00 |  0.00 |  0.00 |  0.00 |  0.00 |\n",
      "-------+-------+-------+-------+-------+-------+-------+-------+-------+-------+-------+-------+\n"
     ]
    }
   ],
   "source": [
    "!python3 eval.py --trained_model=weights/yolact_edge_lvis_lwf_1_20000.pth  --disable_tensorrt --config=yolact_edge_config_lwf --max_images=100\n",
    "!python3 eval.py --trained_model=weights/yolact_edge_lvis_lwf_1_20000.pth  --disable_tensorrt --config=yolact_edge_lvis_config_lwf\n",
    "!python3 eval.py --trained_model=weights/yolact_edge_lvis_lwf_1_20000.pth  --disable_tensorrt --config=yolact_edge_lvis_config"
   ]
  },
  {
   "cell_type": "code",
   "execution_count": 5,
   "metadata": {
    "vscode": {
     "languageId": "shellscript"
    }
   },
   "outputs": [
    {
     "name": "stdout",
     "output_type": "stream",
     "text": [
      "/home/saicharanm22/.local/lib/python3.10/site-packages/torch/cuda/__init__.py:497: UserWarning: Can't initialize NVML\n",
      "  warnings.warn(\"Can't initialize NVML\")\n",
      "loading annotations into memory...\n",
      "Done (t=1.38s)\n",
      "creating index...\n",
      "index created!\n",
      "\u001b[32m[04/20 12:18:20 yolact.eval]: \u001b[0mLoading model...\n",
      "\u001b[32m[04/20 12:18:24 yolact.eval]: \u001b[0mModel loaded.\n",
      "\n",
      "Processing Images  ██████████████████████████████    100 /    100 (100.00%)     5.72 fps        \n",
      "Saving data...\n",
      "\u001b[32m[04/20 12:18:56 yolact.eval]: \u001b[0mCalculating mAP...\n",
      "\u001b[32m[04/20 12:18:56 yolact.eval]: \u001b[0m\n",
      "       |  all  |  .50  |  .55  |  .60  |  .65  |  .70  |  .75  |  .80  |  .85  |  .90  |  .95  |\n",
      "-------+-------+-------+-------+-------+-------+-------+-------+-------+-------+-------+-------+\n",
      "   box | 11.10 | 31.30 | 26.89 | 21.62 | 13.77 |  9.39 |  5.30 |  1.88 |  0.75 |  0.10 |  0.00 |\n",
      "  mask | 16.87 | 33.03 | 31.02 | 28.86 | 24.57 | 19.89 | 14.34 | 10.47 |  5.62 |  0.75 |  0.11 |\n",
      "-------+-------+-------+-------+-------+-------+-------+-------+-------+-------+-------+-------+\n",
      "/home/saicharanm22/.local/lib/python3.10/site-packages/torch/cuda/__init__.py:497: UserWarning: Can't initialize NVML\n",
      "  warnings.warn(\"Can't initialize NVML\")\n",
      "loading annotations into memory...\n",
      "Done (t=0.01s)\n",
      "creating index...\n",
      "index created!\n",
      "\u001b[32m[04/20 12:19:07 yolact.eval]: \u001b[0mLoading model...\n",
      "\u001b[32m[04/20 12:19:12 yolact.eval]: \u001b[0mModel loaded.\n",
      "\n",
      "Processing Images  ██████████████████████████████     65 /     65 (100.00%)     7.48 fps        \n",
      "Saving data...\n",
      "\u001b[32m[04/20 12:19:30 yolact.eval]: \u001b[0mCalculating mAP...\n",
      "\u001b[32m[04/20 12:19:30 yolact.eval]: \u001b[0m\n",
      "       |  all  |  .50  |  .55  |  .60  |  .65  |  .70  |  .75  |  .80  |  .85  |  .90  |  .95  |\n",
      "-------+-------+-------+-------+-------+-------+-------+-------+-------+-------+-------+-------+\n",
      "   box | 28.14 | 43.04 | 42.17 | 41.00 | 40.41 | 35.13 | 33.93 | 26.54 | 17.10 |  1.96 |  0.15 |\n",
      "  mask | 30.34 | 41.81 | 41.37 | 39.33 | 38.86 | 37.57 | 34.60 | 27.74 | 23.35 | 15.33 |  3.39 |\n",
      "-------+-------+-------+-------+-------+-------+-------+-------+-------+-------+-------+-------+\n",
      "/home/saicharanm22/.local/lib/python3.10/site-packages/torch/cuda/__init__.py:497: UserWarning: Can't initialize NVML\n",
      "  warnings.warn(\"Can't initialize NVML\")\n",
      "loading annotations into memory...\n",
      "Done (t=0.00s)\n",
      "creating index...\n",
      "index created!\n",
      "\u001b[32m[04/20 12:19:39 yolact.eval]: \u001b[0mLoading model...\n",
      "\u001b[32m[04/20 12:19:43 yolact.eval]: \u001b[0mModel loaded.\n",
      "\n",
      "Processing Images  ████████████████████████░░░░░░     54 /     65 (83.08%)     7.84 fps        Warning: Augmentation output an example with no ground truth. Resampling...\n",
      "Processing Images  ██████████████████████████████     65 /     65 (100.00%)     8.12 fps        \n",
      "Saving data...\n",
      "\u001b[32m[04/20 12:20:02 yolact.eval]: \u001b[0mCalculating mAP...\n",
      "\u001b[32m[04/20 12:20:02 yolact.eval]: \u001b[0m\n",
      "       |  all  |  .50  |  .55  |  .60  |  .65  |  .70  |  .75  |  .80  |  .85  |  .90  |  .95  |\n",
      "-------+-------+-------+-------+-------+-------+-------+-------+-------+-------+-------+-------+\n",
      "   box |  0.00 |  0.00 |  0.00 |  0.00 |  0.00 |  0.00 |  0.00 |  0.00 |  0.00 |  0.00 |  0.00 |\n",
      "  mask |  0.00 |  0.00 |  0.00 |  0.00 |  0.00 |  0.00 |  0.00 |  0.00 |  0.00 |  0.00 |  0.00 |\n",
      "-------+-------+-------+-------+-------+-------+-------+-------+-------+-------+-------+-------+\n"
     ]
    }
   ],
   "source": [
    "!python3 eval.py --trained_model=weights/yolact_edge_lvis_lwf_1_25000.pth   --disable_tensorrt --config=yolact_edge_config_lwf --max_images=100\n",
    "!python3 eval.py --trained_model=weights/yolact_edge_lvis_lwf_1_25000.pth   --disable_tensorrt --config=yolact_edge_lvis_config_lwf\n",
    "!python3 eval.py --trained_model=weights/yolact_edge_lvis_lwf_1_25000.pth  --disable_tensorrt --config=yolact_edge_lvis_config"
   ]
  },
  {
   "cell_type": "code",
   "execution_count": 6,
   "metadata": {
    "vscode": {
     "languageId": "shellscript"
    }
   },
   "outputs": [
    {
     "name": "stdout",
     "output_type": "stream",
     "text": [
      "/home/saicharanm22/.local/lib/python3.10/site-packages/torch/cuda/__init__.py:497: UserWarning: Can't initialize NVML\n",
      "  warnings.warn(\"Can't initialize NVML\")\n",
      "loading annotations into memory...\n",
      "Done (t=0.89s)\n",
      "creating index...\n",
      "index created!\n",
      "\u001b[32m[04/20 12:20:11 yolact.eval]: \u001b[0mLoading model...\n",
      "\u001b[32m[04/20 12:20:16 yolact.eval]: \u001b[0mModel loaded.\n",
      "\n",
      "Processing Images  ██████████████████████████████    100 /    100 (100.00%)     6.43 fps        \n",
      "Saving data...\n",
      "\u001b[32m[04/20 12:20:47 yolact.eval]: \u001b[0mCalculating mAP...\n",
      "\u001b[32m[04/20 12:20:47 yolact.eval]: \u001b[0m\n",
      "       |  all  |  .50  |  .55  |  .60  |  .65  |  .70  |  .75  |  .80  |  .85  |  .90  |  .95  |\n",
      "-------+-------+-------+-------+-------+-------+-------+-------+-------+-------+-------+-------+\n",
      "   box | 12.72 | 35.03 | 28.53 | 23.70 | 15.34 | 12.43 |  7.21 |  3.38 |  1.61 |  0.00 |  0.00 |\n",
      "  mask | 18.25 | 35.06 | 33.64 | 30.42 | 26.69 | 22.92 | 16.25 | 11.54 |  4.54 |  1.19 |  0.21 |\n",
      "-------+-------+-------+-------+-------+-------+-------+-------+-------+-------+-------+-------+\n",
      "/home/saicharanm22/.local/lib/python3.10/site-packages/torch/cuda/__init__.py:497: UserWarning: Can't initialize NVML\n",
      "  warnings.warn(\"Can't initialize NVML\")\n",
      "loading annotations into memory...\n",
      "Done (t=0.01s)\n",
      "creating index...\n",
      "index created!\n",
      "\u001b[32m[04/20 12:20:59 yolact.eval]: \u001b[0mLoading model...\n",
      "\u001b[32m[04/20 12:21:03 yolact.eval]: \u001b[0mModel loaded.\n",
      "\n",
      "Processing Images  ██████████████████████████████     65 /     65 (100.00%)     7.09 fps        \n",
      "Saving data...\n",
      "\u001b[32m[04/20 12:21:22 yolact.eval]: \u001b[0mCalculating mAP...\n",
      "\u001b[32m[04/20 12:21:22 yolact.eval]: \u001b[0m\n",
      "       |  all  |  .50  |  .55  |  .60  |  .65  |  .70  |  .75  |  .80  |  .85  |  .90  |  .95  |\n",
      "-------+-------+-------+-------+-------+-------+-------+-------+-------+-------+-------+-------+\n",
      "   box | 26.16 | 40.08 | 38.86 | 37.35 | 36.02 | 34.85 | 32.37 | 23.57 | 14.28 |  4.02 |  0.15 |\n",
      "  mask | 26.86 | 38.52 | 37.81 | 35.93 | 34.43 | 31.21 | 26.52 | 23.17 | 20.47 | 16.36 |  4.13 |\n",
      "-------+-------+-------+-------+-------+-------+-------+-------+-------+-------+-------+-------+\n",
      "/home/saicharanm22/.local/lib/python3.10/site-packages/torch/cuda/__init__.py:497: UserWarning: Can't initialize NVML\n",
      "  warnings.warn(\"Can't initialize NVML\")\n",
      "loading annotations into memory...\n",
      "Done (t=0.00s)\n",
      "creating index...\n",
      "index created!\n",
      "\u001b[32m[04/20 12:21:32 yolact.eval]: \u001b[0mLoading model...\n",
      "\u001b[32m[04/20 12:21:36 yolact.eval]: \u001b[0mModel loaded.\n",
      "\n",
      "Processing Images  ████████████████████████░░░░░░     54 /     65 (83.08%)     7.78 fps        Warning: Augmentation output an example with no ground truth. Resampling...\n",
      "Processing Images  ██████████████████████████████     65 /     65 (100.00%)     7.88 fps        \n",
      "Saving data...\n",
      "\u001b[32m[04/20 12:21:55 yolact.eval]: \u001b[0mCalculating mAP...\n",
      "\u001b[32m[04/20 12:21:55 yolact.eval]: \u001b[0m\n",
      "       |  all  |  .50  |  .55  |  .60  |  .65  |  .70  |  .75  |  .80  |  .85  |  .90  |  .95  |\n",
      "-------+-------+-------+-------+-------+-------+-------+-------+-------+-------+-------+-------+\n",
      "   box |  0.00 |  0.00 |  0.00 |  0.00 |  0.00 |  0.00 |  0.00 |  0.00 |  0.00 |  0.00 |  0.00 |\n",
      "  mask |  0.00 |  0.00 |  0.00 |  0.00 |  0.00 |  0.00 |  0.00 |  0.00 |  0.00 |  0.00 |  0.00 |\n",
      "-------+-------+-------+-------+-------+-------+-------+-------+-------+-------+-------+-------+\n"
     ]
    }
   ],
   "source": [
    "!python3 eval.py --trained_model=weights/yolact_edge_lvis_lwf_2_30000.pth   --disable_tensorrt --config=yolact_edge_config_lwf --max_images=100\n",
    "!python3 eval.py --trained_model=weights/yolact_edge_lvis_lwf_2_30000.pth   --disable_tensorrt --config=yolact_edge_lvis_config_lwf\n",
    "!python3 eval.py --trained_model=weights/yolact_edge_lvis_lwf_2_30000.pth  --disable_tensorrt --config=yolact_edge_lvis_config"
   ]
  },
  {
   "attachments": {},
   "cell_type": "markdown",
   "metadata": {},
   "source": [
    "***********************************************************************************************************************************"
   ]
  },
  {
   "attachments": {},
   "cell_type": "markdown",
   "metadata": {},
   "source": [
    "## Best in terms of accuracy"
   ]
  },
  {
   "cell_type": "code",
   "execution_count": 7,
   "metadata": {
    "vscode": {
     "languageId": "shellscript"
    }
   },
   "outputs": [
    {
     "name": "stdout",
     "output_type": "stream",
     "text": [
      "/home/saicharanm22/.local/lib/python3.10/site-packages/torch/cuda/__init__.py:497: UserWarning: Can't initialize NVML\n",
      "  warnings.warn(\"Can't initialize NVML\")\n",
      "loading annotations into memory...\n",
      "Done (t=1.00s)\n",
      "creating index...\n",
      "index created!\n",
      "\u001b[32m[04/20 12:22:05 yolact.eval]: \u001b[0mLoading model...\n",
      "\u001b[32m[04/20 12:22:09 yolact.eval]: \u001b[0mModel loaded.\n",
      "\n",
      "Processing Images  ██████████████████████████████    100 /    100 (100.00%)     5.86 fps        \n",
      "Saving data...\n",
      "\u001b[32m[04/20 12:22:41 yolact.eval]: \u001b[0mCalculating mAP...\n",
      "\u001b[32m[04/20 12:22:42 yolact.eval]: \u001b[0m\n",
      "       |  all  |  .50  |  .55  |  .60  |  .65  |  .70  |  .75  |  .80  |  .85  |  .90  |  .95  |\n",
      "-------+-------+-------+-------+-------+-------+-------+-------+-------+-------+-------+-------+\n",
      "   box | 12.18 | 33.08 | 28.65 | 22.76 | 16.33 | 11.35 |  6.27 |  3.27 |  0.07 |  0.06 |  0.00 |\n",
      "  mask | 16.10 | 31.42 | 29.95 | 28.08 | 25.24 | 20.15 | 13.95 |  7.90 |  3.05 |  1.28 |  0.00 |\n",
      "-------+-------+-------+-------+-------+-------+-------+-------+-------+-------+-------+-------+\n",
      "/home/saicharanm22/.local/lib/python3.10/site-packages/torch/cuda/__init__.py:497: UserWarning: Can't initialize NVML\n",
      "  warnings.warn(\"Can't initialize NVML\")\n",
      "loading annotations into memory...\n",
      "Done (t=0.01s)\n",
      "creating index...\n",
      "index created!\n",
      "\u001b[32m[04/20 12:22:51 yolact.eval]: \u001b[0mLoading model...\n",
      "\u001b[32m[04/20 12:22:57 yolact.eval]: \u001b[0mModel loaded.\n",
      "\n",
      "Processing Images  ██████████████████████████████     65 /     65 (100.00%)     7.09 fps        \n",
      "Saving data...\n",
      "\u001b[32m[04/20 12:23:18 yolact.eval]: \u001b[0mCalculating mAP...\n",
      "\u001b[32m[04/20 12:23:18 yolact.eval]: \u001b[0m\n",
      "       |  all  |  .50  |  .55  |  .60  |  .65  |  .70  |  .75  |  .80  |  .85  |  .90  |  .95  |\n",
      "-------+-------+-------+-------+-------+-------+-------+-------+-------+-------+-------+-------+\n",
      "   box | 25.30 | 40.78 | 38.36 | 37.74 | 36.67 | 33.24 | 26.27 | 22.60 | 13.57 |  3.62 |  0.16 |\n",
      "  mask | 28.16 | 38.01 | 37.29 | 36.24 | 35.21 | 32.68 | 31.59 | 27.26 | 24.23 | 14.51 |  4.54 |\n",
      "-------+-------+-------+-------+-------+-------+-------+-------+-------+-------+-------+-------+\n",
      "/home/saicharanm22/.local/lib/python3.10/site-packages/torch/cuda/__init__.py:497: UserWarning: Can't initialize NVML\n",
      "  warnings.warn(\"Can't initialize NVML\")\n",
      "loading annotations into memory...\n",
      "Done (t=0.00s)\n",
      "creating index...\n",
      "index created!\n",
      "\u001b[32m[04/20 12:23:30 yolact.eval]: \u001b[0mLoading model...\n",
      "\u001b[32m[04/20 12:23:36 yolact.eval]: \u001b[0mModel loaded.\n",
      "\n",
      "Processing Images  ████████████████████████░░░░░░     54 /     65 (83.08%)     7.92 fps        Warning: Augmentation output an example with no ground truth. Resampling...\n",
      "Processing Images  ██████████████████████████████     65 /     65 (100.00%)     8.11 fps        \n",
      "Saving data...\n",
      "\u001b[32m[04/20 12:23:56 yolact.eval]: \u001b[0mCalculating mAP...\n",
      "\u001b[32m[04/20 12:23:56 yolact.eval]: \u001b[0m\n",
      "       |  all  |  .50  |  .55  |  .60  |  .65  |  .70  |  .75  |  .80  |  .85  |  .90  |  .95  |\n",
      "-------+-------+-------+-------+-------+-------+-------+-------+-------+-------+-------+-------+\n",
      "   box |  0.00 |  0.00 |  0.00 |  0.00 |  0.00 |  0.00 |  0.00 |  0.00 |  0.00 |  0.00 |  0.00 |\n",
      "  mask |  0.00 |  0.00 |  0.00 |  0.00 |  0.00 |  0.00 |  0.00 |  0.00 |  0.00 |  0.00 |  0.00 |\n",
      "-------+-------+-------+-------+-------+-------+-------+-------+-------+-------+-------+-------+\n"
     ]
    }
   ],
   "source": [
    "!python3 eval.py --trained_model=weights/yolact_edge_lvis_lwf_2_35000.pth   --disable_tensorrt --config=yolact_edge_config_lwf --max_images=100\n",
    "!python3 eval.py --trained_model=weights/yolact_edge_lvis_lwf_2_35000.pth   --disable_tensorrt --config=yolact_edge_lvis_config_lwf\n",
    "!python3 eval.py --trained_model=weights/yolact_edge_lvis_lwf_2_35000.pth  --disable_tensorrt --config=yolact_edge_lvis_config"
   ]
  },
  {
   "attachments": {},
   "cell_type": "markdown",
   "metadata": {},
   "source": [
    "***************"
   ]
  },
  {
   "cell_type": "code",
   "execution_count": 7,
   "metadata": {
    "vscode": {
     "languageId": "shellscript"
    }
   },
   "outputs": [
    {
     "name": "stdout",
     "output_type": "stream",
     "text": [
      "/home/saicharanm22/.local/lib/python3.10/site-packages/torch/cuda/__init__.py:497: UserWarning: Can't initialize NVML\n",
      "  warnings.warn(\"Can't initialize NVML\")\n",
      "loading annotations into memory...\n",
      "Done (t=1.40s)\n",
      "creating index...\n",
      "index created!\n",
      "\u001b[32m[04/20 13:42:35 yolact.eval]: \u001b[0mLoading model...\n",
      "\u001b[32m[04/20 13:42:40 yolact.eval]: \u001b[0mModel loaded.\n",
      "\n",
      "Processing Images  ██████████████████████████████    100 /    100 (100.00%)     6.37 fps        \n",
      "Saving data...\n",
      "\u001b[32m[04/20 13:43:09 yolact.eval]: \u001b[0mCalculating mAP...\n",
      "\u001b[32m[04/20 13:43:09 yolact.eval]: \u001b[0m\n",
      "       |  all  |  .50  |  .55  |  .60  |  .65  |  .70  |  .75  |  .80  |  .85  |  .90  |  .95  |\n",
      "-------+-------+-------+-------+-------+-------+-------+-------+-------+-------+-------+-------+\n",
      "   box | 13.09 | 33.58 | 29.92 | 25.57 | 18.53 | 11.62 |  7.13 |  3.99 |  0.49 |  0.08 |  0.00 |\n",
      "  mask | 16.08 | 31.80 | 29.14 | 27.22 | 24.23 | 19.38 | 13.66 | 10.20 |  3.97 |  1.12 |  0.10 |\n",
      "-------+-------+-------+-------+-------+-------+-------+-------+-------+-------+-------+-------+\n"
     ]
    }
   ],
   "source": [
    "!python3 eval.py --trained_model=weights/yolact_edge_lvis_lwf_2_38000.pth   --disable_tensorrt --config=yolact_edge_config_lwf --max_images=100"
   ]
  },
  {
   "cell_type": "code",
   "execution_count": 3,
   "metadata": {
    "vscode": {
     "languageId": "shellscript"
    }
   },
   "outputs": [
    {
     "name": "stdout",
     "output_type": "stream",
     "text": [
      "/home/saicharanm22/.local/lib/python3.10/site-packages/torch/cuda/__init__.py:497: UserWarning: Can't initialize NVML\n",
      "  warnings.warn(\"Can't initialize NVML\")\n",
      "loading annotations into memory...\n",
      "Done (t=0.90s)\n",
      "creating index...\n",
      "index created!\n",
      "\u001b[32m[04/20 13:14:44 yolact.eval]: \u001b[0mLoading model...\n",
      "\u001b[32m[04/20 13:14:47 yolact.eval]: \u001b[0mModel loaded.\n",
      "\n",
      "Processing Images  ██████████████████████████████    100 /    100 (100.00%)     5.78 fps        \n",
      "Saving data...\n",
      "\u001b[32m[04/20 13:15:19 yolact.eval]: \u001b[0mCalculating mAP...\n",
      "\u001b[32m[04/20 13:15:19 yolact.eval]: \u001b[0m\n",
      "       |  all  |  .50  |  .55  |  .60  |  .65  |  .70  |  .75  |  .80  |  .85  |  .90  |  .95  |\n",
      "-------+-------+-------+-------+-------+-------+-------+-------+-------+-------+-------+-------+\n",
      "   box | 13.46 | 35.82 | 32.26 | 26.37 | 17.66 | 11.66 |  6.51 |  3.47 |  0.72 |  0.06 |  0.06 |\n",
      "  mask | 17.50 | 33.72 | 31.87 | 30.64 | 26.95 | 20.86 | 15.13 | 10.53 |  4.75 |  0.56 |  0.00 |\n",
      "-------+-------+-------+-------+-------+-------+-------+-------+-------+-------+-------+-------+\n"
     ]
    }
   ],
   "source": [
    "!python3 eval.py --trained_model=weights/yolact_edge_lvis_lwf_2_39000.pth   --disable_tensorrt --config=yolact_edge_config_lwf --max_images=100"
   ]
  },
  {
   "cell_type": "code",
   "execution_count": 8,
   "metadata": {
    "vscode": {
     "languageId": "shellscript"
    }
   },
   "outputs": [
    {
     "name": "stdout",
     "output_type": "stream",
     "text": [
      "/home/saicharanm22/.local/lib/python3.10/site-packages/torch/cuda/__init__.py:497: UserWarning: Can't initialize NVML\n",
      "  warnings.warn(\"Can't initialize NVML\")\n",
      "loading annotations into memory...\n",
      "Done (t=1.44s)\n",
      "creating index...\n",
      "index created!\n",
      "\u001b[32m[04/20 12:24:10 yolact.eval]: \u001b[0mLoading model...\n",
      "\u001b[32m[04/20 12:24:14 yolact.eval]: \u001b[0mModel loaded.\n",
      "\n",
      "Processing Images  ██████████████████████████████    100 /    100 (100.00%)     6.10 fps        \n",
      "Saving data...\n",
      "\u001b[32m[04/20 12:24:46 yolact.eval]: \u001b[0mCalculating mAP...\n",
      "\u001b[32m[04/20 12:24:46 yolact.eval]: \u001b[0m\n",
      "       |  all  |  .50  |  .55  |  .60  |  .65  |  .70  |  .75  |  .80  |  .85  |  .90  |  .95  |\n",
      "-------+-------+-------+-------+-------+-------+-------+-------+-------+-------+-------+-------+\n",
      "   box | 14.84 | 40.57 | 33.95 | 27.30 | 19.35 | 13.49 |  8.30 |  3.69 |  1.41 |  0.23 |  0.07 |\n",
      "  mask | 18.98 | 38.59 | 36.41 | 33.29 | 28.26 | 22.83 | 15.85 |  9.95 |  4.08 |  0.52 |  0.00 |\n",
      "-------+-------+-------+-------+-------+-------+-------+-------+-------+-------+-------+-------+\n",
      "/home/saicharanm22/.local/lib/python3.10/site-packages/torch/cuda/__init__.py:497: UserWarning: Can't initialize NVML\n",
      "  warnings.warn(\"Can't initialize NVML\")\n",
      "loading annotations into memory...\n",
      "Done (t=0.01s)\n",
      "creating index...\n",
      "index created!\n",
      "\u001b[32m[04/20 12:24:57 yolact.eval]: \u001b[0mLoading model...\n",
      "\u001b[32m[04/20 12:25:01 yolact.eval]: \u001b[0mModel loaded.\n",
      "\n",
      "Processing Images  ██████████████████████████████     65 /     65 (100.00%)     7.03 fps        \n",
      "Saving data...\n",
      "\u001b[32m[04/20 12:25:23 yolact.eval]: \u001b[0mCalculating mAP...\n",
      "\u001b[32m[04/20 12:25:23 yolact.eval]: \u001b[0m\n",
      "       |  all  |  .50  |  .55  |  .60  |  .65  |  .70  |  .75  |  .80  |  .85  |  .90  |  .95  |\n",
      "-------+-------+-------+-------+-------+-------+-------+-------+-------+-------+-------+-------+\n",
      "   box | 30.73 | 46.56 | 46.22 | 45.01 | 41.95 | 40.23 | 36.37 | 27.62 | 18.54 |  4.79 |  0.01 |\n",
      "  mask | 31.91 | 45.05 | 43.68 | 43.03 | 41.13 | 39.79 | 37.11 | 28.68 | 22.94 | 12.54 |  5.13 |\n",
      "-------+-------+-------+-------+-------+-------+-------+-------+-------+-------+-------+-------+\n",
      "/home/saicharanm22/.local/lib/python3.10/site-packages/torch/cuda/__init__.py:497: UserWarning: Can't initialize NVML\n",
      "  warnings.warn(\"Can't initialize NVML\")\n",
      "loading annotations into memory...\n",
      "Done (t=0.00s)\n",
      "creating index...\n",
      "index created!\n",
      "\u001b[32m[04/20 12:25:34 yolact.eval]: \u001b[0mLoading model...\n",
      "\u001b[32m[04/20 12:25:39 yolact.eval]: \u001b[0mModel loaded.\n",
      "\n",
      "Processing Images  ████████████████████████░░░░░░     54 /     65 (83.08%)     7.10 fps        Warning: Augmentation output an example with no ground truth. Resampling...\n",
      "Processing Images  ██████████████████████████████     65 /     65 (100.00%)     7.25 fps        \n",
      "Saving data...\n",
      "\u001b[32m[04/20 12:26:01 yolact.eval]: \u001b[0mCalculating mAP...\n",
      "\u001b[32m[04/20 12:26:01 yolact.eval]: \u001b[0m\n",
      "       |  all  |  .50  |  .55  |  .60  |  .65  |  .70  |  .75  |  .80  |  .85  |  .90  |  .95  |\n",
      "-------+-------+-------+-------+-------+-------+-------+-------+-------+-------+-------+-------+\n",
      "   box |  0.02 |  0.03 |  0.03 |  0.03 |  0.03 |  0.01 |  0.01 |  0.01 |  0.01 |  0.00 |  0.00 |\n",
      "  mask |  0.01 |  0.03 |  0.03 |  0.03 |  0.03 |  0.00 |  0.00 |  0.00 |  0.00 |  0.00 |  0.00 |\n",
      "-------+-------+-------+-------+-------+-------+-------+-------+-------+-------+-------+-------+\n"
     ]
    }
   ],
   "source": [
    "!python3 eval.py --trained_model=weights/yolact_edge_lvis_lwf_2_40000.pth   --disable_tensorrt --config=yolact_edge_config_lwf --max_images=100\n",
    "!python3 eval.py --trained_model=weights/yolact_edge_lvis_lwf_2_40000.pth   --disable_tensorrt --config=yolact_edge_lvis_config_lwf\n",
    "!python3 eval.py --trained_model=weights/yolact_edge_lvis_lwf_2_40000.pth   --disable_tensorrt --config=yolact_edge_lvis_config"
   ]
  },
  {
   "cell_type": "code",
   "execution_count": 4,
   "metadata": {
    "vscode": {
     "languageId": "shellscript"
    }
   },
   "outputs": [
    {
     "name": "stdout",
     "output_type": "stream",
     "text": [
      "/home/saicharanm22/.local/lib/python3.10/site-packages/torch/cuda/__init__.py:497: UserWarning: Can't initialize NVML\n",
      "  warnings.warn(\"Can't initialize NVML\")\n",
      "loading annotations into memory...\n",
      "Done (t=1.44s)\n",
      "creating index...\n",
      "index created!\n",
      "\u001b[32m[04/20 13:15:34 yolact.eval]: \u001b[0mLoading model...\n",
      "\u001b[32m[04/20 13:15:39 yolact.eval]: \u001b[0mModel loaded.\n",
      "\n",
      "Processing Images  ██████████████████████████████    100 /    100 (100.00%)     6.36 fps        \n",
      "Saving data...\n",
      "\u001b[32m[04/20 13:16:08 yolact.eval]: \u001b[0mCalculating mAP...\n",
      "\u001b[32m[04/20 13:16:09 yolact.eval]: \u001b[0m\n",
      "       |  all  |  .50  |  .55  |  .60  |  .65  |  .70  |  .75  |  .80  |  .85  |  .90  |  .95  |\n",
      "-------+-------+-------+-------+-------+-------+-------+-------+-------+-------+-------+-------+\n",
      "   box | 13.13 | 35.95 | 31.26 | 23.40 | 18.08 | 10.64 |  7.25 |  3.53 |  0.94 |  0.30 |  0.00 |\n",
      "  mask | 18.30 | 35.87 | 34.74 | 30.87 | 26.26 | 21.19 | 15.33 | 11.88 |  5.73 |  1.14 |  0.00 |\n",
      "-------+-------+-------+-------+-------+-------+-------+-------+-------+-------+-------+-------+\n"
     ]
    }
   ],
   "source": [
    "!python3 eval.py --trained_model=weights/yolact_edge_lvis_lwf_2_41000.pth   --disable_tensorrt --config=yolact_edge_config_lwf --max_images=100"
   ]
  },
  {
   "cell_type": "code",
   "execution_count": 5,
   "metadata": {
    "vscode": {
     "languageId": "shellscript"
    }
   },
   "outputs": [
    {
     "name": "stdout",
     "output_type": "stream",
     "text": [
      "/home/saicharanm22/.local/lib/python3.10/site-packages/torch/cuda/__init__.py:497: UserWarning: Can't initialize NVML\n",
      "  warnings.warn(\"Can't initialize NVML\")\n",
      "loading annotations into memory...\n",
      "Done (t=1.57s)\n",
      "creating index...\n",
      "index created!\n",
      "\u001b[32m[04/20 13:16:21 yolact.eval]: \u001b[0mLoading model...\n",
      "\u001b[32m[04/20 13:16:26 yolact.eval]: \u001b[0mModel loaded.\n",
      "\n",
      "Processing Images  ██████████████████████████████    100 /    100 (100.00%)     5.44 fps        \n",
      "Saving data...\n",
      "\u001b[32m[04/20 13:17:02 yolact.eval]: \u001b[0mCalculating mAP...\n",
      "\u001b[32m[04/20 13:17:02 yolact.eval]: \u001b[0m\n",
      "       |  all  |  .50  |  .55  |  .60  |  .65  |  .70  |  .75  |  .80  |  .85  |  .90  |  .95  |\n",
      "-------+-------+-------+-------+-------+-------+-------+-------+-------+-------+-------+-------+\n",
      "   box | 13.55 | 33.54 | 30.05 | 23.42 | 17.59 | 15.10 |  9.82 |  3.94 |  1.79 |  0.27 |  0.00 |\n",
      "  mask | 16.76 | 32.51 | 30.67 | 28.68 | 23.87 | 21.63 | 15.13 |  9.62 |  4.30 |  1.22 |  0.00 |\n",
      "-------+-------+-------+-------+-------+-------+-------+-------+-------+-------+-------+-------+\n"
     ]
    }
   ],
   "source": [
    "!python3 eval.py --trained_model=weights/yolact_edge_lvis_lwf_2_42000.pth   --disable_tensorrt --config=yolact_edge_config_lwf --max_images=100"
   ]
  },
  {
   "cell_type": "code",
   "execution_count": 1,
   "metadata": {
    "vscode": {
     "languageId": "shellscript"
    }
   },
   "outputs": [
    {
     "name": "stdout",
     "output_type": "stream",
     "text": [
      "/home/saicharanm22/.local/lib/python3.10/site-packages/torch/cuda/__init__.py:497: UserWarning: Can't initialize NVML\n",
      "  warnings.warn(\"Can't initialize NVML\")\n",
      "loading annotations into memory...\n",
      "Done (t=1.65s)\n",
      "creating index...\n",
      "index created!\n",
      "\u001b[32m[04/20 12:29:03 yolact.eval]: \u001b[0mLoading model...\n",
      "\u001b[32m[04/20 12:29:09 yolact.eval]: \u001b[0mModel loaded.\n",
      "\n",
      "Processing Images  ██████████████████████████████    100 /    100 (100.00%)     5.50 fps        \n",
      "Saving data...\n",
      "\u001b[32m[04/20 12:29:46 yolact.eval]: \u001b[0mCalculating mAP...\n",
      "\u001b[32m[04/20 12:29:46 yolact.eval]: \u001b[0m\n",
      "       |  all  |  .50  |  .55  |  .60  |  .65  |  .70  |  .75  |  .80  |  .85  |  .90  |  .95  |\n",
      "-------+-------+-------+-------+-------+-------+-------+-------+-------+-------+-------+-------+\n",
      "   box | 13.87 | 34.48 | 29.81 | 25.27 | 19.37 | 12.99 |  8.77 |  5.60 |  1.77 |  0.61 |  0.06 |\n",
      "  mask | 16.26 | 32.58 | 32.14 | 25.63 | 23.44 | 18.55 | 14.81 |  9.75 |  4.90 |  0.66 |  0.10 |\n",
      "-------+-------+-------+-------+-------+-------+-------+-------+-------+-------+-------+-------+\n",
      "/home/saicharanm22/.local/lib/python3.10/site-packages/torch/cuda/__init__.py:497: UserWarning: Can't initialize NVML\n",
      "  warnings.warn(\"Can't initialize NVML\")\n",
      "loading annotations into memory...\n",
      "Done (t=0.01s)\n",
      "creating index...\n",
      "index created!\n",
      "\u001b[32m[04/20 12:29:59 yolact.eval]: \u001b[0mLoading model...\n",
      "\u001b[32m[04/20 12:30:04 yolact.eval]: \u001b[0mModel loaded.\n",
      "\n",
      "Processing Images  ██████████████████████████████     65 /     65 (100.00%)     6.33 fps        \n",
      "Saving data...\n",
      "\u001b[32m[04/20 12:30:28 yolact.eval]: \u001b[0mCalculating mAP...\n",
      "\u001b[32m[04/20 12:30:28 yolact.eval]: \u001b[0m\n",
      "       |  all  |  .50  |  .55  |  .60  |  .65  |  .70  |  .75  |  .80  |  .85  |  .90  |  .95  |\n",
      "-------+-------+-------+-------+-------+-------+-------+-------+-------+-------+-------+-------+\n",
      "   box | 28.25 | 40.46 | 39.99 | 39.56 | 37.77 | 36.75 | 32.19 | 27.13 | 16.21 |  9.57 |  2.89 |\n",
      "  mask | 29.07 | 39.63 | 39.35 | 38.45 | 37.94 | 33.46 | 29.83 | 26.19 | 24.06 | 14.93 |  6.90 |\n",
      "-------+-------+-------+-------+-------+-------+-------+-------+-------+-------+-------+-------+\n",
      "/home/saicharanm22/.local/lib/python3.10/site-packages/torch/cuda/__init__.py:497: UserWarning: Can't initialize NVML\n",
      "  warnings.warn(\"Can't initialize NVML\")\n",
      "loading annotations into memory...\n",
      "Done (t=0.00s)\n",
      "creating index...\n",
      "index created!\n",
      "\u001b[32m[04/20 12:30:38 yolact.eval]: \u001b[0mLoading model...\n",
      "\u001b[32m[04/20 12:30:43 yolact.eval]: \u001b[0mModel loaded.\n",
      "\n",
      "Processing Images  ████████████████████████░░░░░░     54 /     65 (83.08%)     6.70 fps        Warning: Augmentation output an example with no ground truth. Resampling...\n",
      "Processing Images  ██████████████████████████████     65 /     65 (100.00%)     6.72 fps        \n",
      "Saving data...\n",
      "\u001b[32m[04/20 12:31:06 yolact.eval]: \u001b[0mCalculating mAP...\n",
      "\u001b[32m[04/20 12:31:06 yolact.eval]: \u001b[0m\n",
      "       |  all  |  .50  |  .55  |  .60  |  .65  |  .70  |  .75  |  .80  |  .85  |  .90  |  .95  |\n",
      "-------+-------+-------+-------+-------+-------+-------+-------+-------+-------+-------+-------+\n",
      "   box |  0.00 |  0.00 |  0.00 |  0.00 |  0.00 |  0.00 |  0.00 |  0.00 |  0.00 |  0.00 |  0.00 |\n",
      "  mask |  0.00 |  0.00 |  0.00 |  0.00 |  0.00 |  0.00 |  0.00 |  0.00 |  0.00 |  0.00 |  0.00 |\n",
      "-------+-------+-------+-------+-------+-------+-------+-------+-------+-------+-------+-------+\n"
     ]
    }
   ],
   "source": [
    "!python3 eval.py --trained_model=weights/yolact_edge_lvis_lwf_2_43000.pth   --disable_tensorrt --config=yolact_edge_config_lwf --max_images=100\n",
    "!python3 eval.py --trained_model=weights/yolact_edge_lvis_lwf_2_43000.pth   --disable_tensorrt --config=yolact_edge_lvis_config_lwf\n",
    "!python3 eval.py --trained_model=weights/yolact_edge_lvis_lwf_2_43000.pth   --disable_tensorrt --config=yolact_edge_lvis_config"
   ]
  }
 ],
 "metadata": {
  "kernelspec": {
   "display_name": "Python 3",
   "language": "python",
   "name": "python3"
  },
  "language_info": {
   "codemirror_mode": {
    "name": "ipython",
    "version": 3
   },
   "file_extension": ".py",
   "mimetype": "text/x-python",
   "name": "python",
   "nbconvert_exporter": "python",
   "pygments_lexer": "ipython3",
   "version": "3.10.6"
  },
  "orig_nbformat": 4
 },
 "nbformat": 4,
 "nbformat_minor": 2
}
