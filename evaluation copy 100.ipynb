{
 "cells": [
  {
   "cell_type": "code",
   "execution_count": 1,
   "metadata": {
    "vscode": {
     "languageId": "shellscript"
    }
   },
   "outputs": [
    {
     "name": "stdout",
     "output_type": "stream",
     "text": [
      "/home/saicharanm22/.local/lib/python3.10/site-packages/torch/cuda/__init__.py:497: UserWarning: Can't initialize NVML\n",
      "  warnings.warn(\"Can't initialize NVML\")\n",
      "loading annotations into memory...\n",
      "Done (t=0.90s)\n",
      "creating index...\n",
      "index created!\n",
      "\u001b[32m[04/20 11:41:30 yolact.eval]: \u001b[0mLoading model...\n",
      "\u001b[32m[04/20 11:41:34 yolact.eval]: \u001b[0mModel loaded.\n",
      "\n",
      "Processing Images  ██████████████████████████████    100 /    100 (100.00%)     5.06 fps        \n",
      "Saving data...\n",
      "\u001b[32m[04/20 11:42:07 yolact.eval]: \u001b[0mCalculating mAP...\n",
      "\u001b[32m[04/20 11:42:07 yolact.eval]: \u001b[0m\n",
      "       |  all  |  .50  |  .55  |  .60  |  .65  |  .70  |  .75  |  .80  |  .85  |  .90  |  .95  |\n",
      "-------+-------+-------+-------+-------+-------+-------+-------+-------+-------+-------+-------+\n",
      "   box | 12.83 | 30.43 | 28.24 | 20.73 | 17.69 | 13.98 | 11.61 |  3.32 |  2.30 |  0.01 |  0.00 |\n",
      "  mask | 16.58 | 31.55 | 28.58 | 25.25 | 23.29 | 20.72 | 16.76 | 12.12 |  5.74 |  1.55 |  0.24 |\n",
      "-------+-------+-------+-------+-------+-------+-------+-------+-------+-------+-------+-------+\n",
      "/home/saicharanm22/.local/lib/python3.10/site-packages/torch/cuda/__init__.py:497: UserWarning: Can't initialize NVML\n",
      "  warnings.warn(\"Can't initialize NVML\")\n",
      "loading annotations into memory...\n",
      "Done (t=0.01s)\n",
      "creating index...\n",
      "index created!\n",
      "\u001b[32m[04/20 11:42:18 yolact.eval]: \u001b[0mLoading model...\n",
      "\u001b[32m[04/20 11:42:22 yolact.eval]: \u001b[0mModel loaded.\n",
      "\n",
      "Processing Images  ██████████████████████████████     65 /     65 (100.00%)     5.13 fps        \n",
      "Saving data...\n",
      "\u001b[32m[04/20 11:42:45 yolact.eval]: \u001b[0mCalculating mAP...\n",
      "\u001b[32m[04/20 11:42:45 yolact.eval]: \u001b[0m\n",
      "       |  all  |  .50  |  .55  |  .60  |  .65  |  .70  |  .75  |  .80  |  .85  |  .90  |  .95  |\n",
      "-------+-------+-------+-------+-------+-------+-------+-------+-------+-------+-------+-------+\n",
      "   box | 34.65 | 59.03 | 58.36 | 53.12 | 50.63 | 44.86 | 35.60 | 24.79 | 15.16 |  4.74 |  0.23 |\n",
      "  mask | 41.64 | 57.60 | 57.21 | 56.26 | 52.32 | 51.40 | 47.69 | 37.52 | 31.21 | 18.58 |  6.62 |\n",
      "-------+-------+-------+-------+-------+-------+-------+-------+-------+-------+-------+-------+\n",
      "/home/saicharanm22/.local/lib/python3.10/site-packages/torch/cuda/__init__.py:497: UserWarning: Can't initialize NVML\n",
      "  warnings.warn(\"Can't initialize NVML\")\n",
      "loading annotations into memory...\n",
      "Done (t=0.00s)\n",
      "creating index...\n",
      "index created!\n",
      "\u001b[32m[04/20 11:42:54 yolact.eval]: \u001b[0mLoading model...\n",
      "\u001b[32m[04/20 11:42:59 yolact.eval]: \u001b[0mModel loaded.\n",
      "\n",
      "Processing Images  ████████████████████████░░░░░░     54 /     65 (83.08%)     5.73 fps        Warning: Augmentation output an example with no ground truth. Resampling...\n",
      "Processing Images  ██████████████████████████████     65 /     65 (100.00%)     6.14 fps        \n",
      "Saving data...\n",
      "\u001b[32m[04/20 11:43:17 yolact.eval]: \u001b[0mCalculating mAP...\n",
      "\u001b[32m[04/20 11:43:17 yolact.eval]: \u001b[0m\n",
      "       |  all  |  .50  |  .55  |  .60  |  .65  |  .70  |  .75  |  .80  |  .85  |  .90  |  .95  |\n",
      "-------+-------+-------+-------+-------+-------+-------+-------+-------+-------+-------+-------+\n",
      "   box |  0.00 |  0.00 |  0.00 |  0.00 |  0.00 |  0.00 |  0.00 |  0.00 |  0.00 |  0.00 |  0.00 |\n",
      "  mask |  0.00 |  0.00 |  0.00 |  0.00 |  0.00 |  0.00 |  0.00 |  0.00 |  0.00 |  0.00 |  0.00 |\n",
      "-------+-------+-------+-------+-------+-------+-------+-------+-------+-------+-------+-------+\n"
     ]
    }
   ],
   "source": [
    "!python3 eval.py --trained_model=weights/yolact_edge_lvis_lwf_0_5000.pth --score_threshold=0.3 --disable_tensorrt --config=yolact_edge_config_lwf --max_images=100\n",
    "!python3 eval.py --trained_model=weights/yolact_edge_lvis_lwf_0_5000.pth --score_threshold=0.3 --disable_tensorrt --config=yolact_edge_lvis_config_lwf\n",
    "!python3 eval.py --trained_model=weights/yolact_edge_lvis_lwf_0_5000.pth --score_threshold=0.95 --disable_tensorrt --config=yolact_edge_lvis_config"
   ]
  },
  {
   "cell_type": "code",
   "execution_count": 2,
   "metadata": {
    "vscode": {
     "languageId": "shellscript"
    }
   },
   "outputs": [
    {
     "name": "stdout",
     "output_type": "stream",
     "text": [
      "/home/saicharanm22/.local/lib/python3.10/site-packages/torch/cuda/__init__.py:497: UserWarning: Can't initialize NVML\n",
      "  warnings.warn(\"Can't initialize NVML\")\n",
      "loading annotations into memory...\n",
      "Done (t=0.90s)\n",
      "creating index...\n",
      "index created!\n",
      "\u001b[32m[04/20 11:43:27 yolact.eval]: \u001b[0mLoading model...\n",
      "\u001b[32m[04/20 11:43:31 yolact.eval]: \u001b[0mModel loaded.\n",
      "\n",
      "Processing Images  ██████████████████████████████    100 /    100 (100.00%)     5.48 fps        \n",
      "Saving data...\n",
      "\u001b[32m[04/20 11:44:04 yolact.eval]: \u001b[0mCalculating mAP...\n",
      "\u001b[32m[04/20 11:44:05 yolact.eval]: \u001b[0m\n",
      "       |  all  |  .50  |  .55  |  .60  |  .65  |  .70  |  .75  |  .80  |  .85  |  .90  |  .95  |\n",
      "-------+-------+-------+-------+-------+-------+-------+-------+-------+-------+-------+-------+\n",
      "   box | 14.69 | 33.44 | 29.98 | 26.77 | 22.38 | 15.23 | 10.19 |  5.50 |  2.58 |  0.83 |  0.01 |\n",
      "  mask | 17.98 | 31.94 | 31.23 | 29.93 | 28.43 | 22.89 | 17.97 | 12.24 |  4.13 |  1.08 |  0.00 |\n",
      "-------+-------+-------+-------+-------+-------+-------+-------+-------+-------+-------+-------+\n",
      "/home/saicharanm22/.local/lib/python3.10/site-packages/torch/cuda/__init__.py:497: UserWarning: Can't initialize NVML\n",
      "  warnings.warn(\"Can't initialize NVML\")\n",
      "loading annotations into memory...\n",
      "Done (t=0.01s)\n",
      "creating index...\n",
      "index created!\n",
      "\u001b[32m[04/20 11:44:16 yolact.eval]: \u001b[0mLoading model...\n",
      "\u001b[32m[04/20 11:44:20 yolact.eval]: \u001b[0mModel loaded.\n",
      "\n",
      "Processing Images  ██████████████████████████████     65 /     65 (100.00%)     5.54 fps        \n",
      "Saving data...\n",
      "\u001b[32m[04/20 11:44:42 yolact.eval]: \u001b[0mCalculating mAP...\n",
      "\u001b[32m[04/20 11:44:42 yolact.eval]: \u001b[0m\n",
      "       |  all  |  .50  |  .55  |  .60  |  .65  |  .70  |  .75  |  .80  |  .85  |  .90  |  .95  |\n",
      "-------+-------+-------+-------+-------+-------+-------+-------+-------+-------+-------+-------+\n",
      "   box | 34.50 | 53.66 | 52.38 | 50.91 | 48.92 | 45.19 | 43.58 | 27.82 | 14.53 |  5.86 |  2.19 |\n",
      "  mask | 38.31 | 51.03 | 50.54 | 49.86 | 49.13 | 47.49 | 42.47 | 39.47 | 32.73 | 17.96 |  2.44 |\n",
      "-------+-------+-------+-------+-------+-------+-------+-------+-------+-------+-------+-------+\n",
      "/home/saicharanm22/.local/lib/python3.10/site-packages/torch/cuda/__init__.py:497: UserWarning: Can't initialize NVML\n",
      "  warnings.warn(\"Can't initialize NVML\")\n",
      "loading annotations into memory...\n",
      "Done (t=0.00s)\n",
      "creating index...\n",
      "index created!\n",
      "\u001b[32m[04/20 11:44:51 yolact.eval]: \u001b[0mLoading model...\n",
      "\u001b[32m[04/20 11:44:55 yolact.eval]: \u001b[0mModel loaded.\n",
      "\n",
      "Processing Images  ████████████████████████░░░░░░     54 /     65 (83.08%)     5.48 fps        Warning: Augmentation output an example with no ground truth. Resampling...\n",
      "Processing Images  ██████████████████████████████     65 /     65 (100.00%)     5.90 fps        \n",
      "Saving data...\n",
      "\u001b[32m[04/20 11:45:15 yolact.eval]: \u001b[0mCalculating mAP...\n",
      "\u001b[32m[04/20 11:45:15 yolact.eval]: \u001b[0m\n",
      "       |  all  |  .50  |  .55  |  .60  |  .65  |  .70  |  .75  |  .80  |  .85  |  .90  |  .95  |\n",
      "-------+-------+-------+-------+-------+-------+-------+-------+-------+-------+-------+-------+\n",
      "   box |  0.00 |  0.00 |  0.00 |  0.00 |  0.00 |  0.00 |  0.00 |  0.00 |  0.00 |  0.00 |  0.00 |\n",
      "  mask |  0.00 |  0.00 |  0.00 |  0.00 |  0.00 |  0.00 |  0.00 |  0.00 |  0.00 |  0.00 |  0.00 |\n",
      "-------+-------+-------+-------+-------+-------+-------+-------+-------+-------+-------+-------+\n"
     ]
    }
   ],
   "source": [
    "!python3 eval.py --trained_model=weights/yolact_edge_lvis_lwf_0_10000.pth --score_threshold=0.3 --disable_tensorrt --config=yolact_edge_config_lwf --max_images=100\n",
    "!python3 eval.py --trained_model=weights/yolact_edge_lvis_lwf_0_10000.pth --score_threshold=0.3 --disable_tensorrt --config=yolact_edge_lvis_config_lwf\n",
    "!python3 eval.py --trained_model=weights/yolact_edge_lvis_lwf_0_10000.pth --score_threshold=0.95 --disable_tensorrt --config=yolact_edge_lvis_config"
   ]
  },
  {
   "cell_type": "code",
   "execution_count": 3,
   "metadata": {
    "vscode": {
     "languageId": "shellscript"
    }
   },
   "outputs": [
    {
     "name": "stdout",
     "output_type": "stream",
     "text": [
      "/home/saicharanm22/.local/lib/python3.10/site-packages/torch/cuda/__init__.py:497: UserWarning: Can't initialize NVML\n",
      "  warnings.warn(\"Can't initialize NVML\")\n",
      "loading annotations into memory...\n",
      "Done (t=1.28s)\n",
      "creating index...\n",
      "index created!\n",
      "\u001b[32m[04/20 11:45:27 yolact.eval]: \u001b[0mLoading model...\n",
      "\u001b[32m[04/20 11:45:31 yolact.eval]: \u001b[0mModel loaded.\n",
      "\n",
      "Processing Images  ██████████████████████████████    100 /    100 (100.00%)     5.32 fps        \n",
      "Saving data...\n",
      "\u001b[32m[04/20 11:46:05 yolact.eval]: \u001b[0mCalculating mAP...\n",
      "\u001b[32m[04/20 11:46:05 yolact.eval]: \u001b[0m\n",
      "       |  all  |  .50  |  .55  |  .60  |  .65  |  .70  |  .75  |  .80  |  .85  |  .90  |  .95  |\n",
      "-------+-------+-------+-------+-------+-------+-------+-------+-------+-------+-------+-------+\n",
      "   box | 13.76 | 32.25 | 29.74 | 24.03 | 19.11 | 13.91 |  9.23 |  6.55 |  2.10 |  0.67 |  0.00 |\n",
      "  mask | 16.33 | 32.80 | 28.89 | 27.72 | 23.63 | 18.34 | 15.57 |  9.97 |  4.79 |  1.63 |  0.00 |\n",
      "-------+-------+-------+-------+-------+-------+-------+-------+-------+-------+-------+-------+\n",
      "/home/saicharanm22/.local/lib/python3.10/site-packages/torch/cuda/__init__.py:497: UserWarning: Can't initialize NVML\n",
      "  warnings.warn(\"Can't initialize NVML\")\n",
      "loading annotations into memory...\n",
      "Done (t=0.00s)\n",
      "creating index...\n",
      "index created!\n",
      "\u001b[32m[04/20 11:46:15 yolact.eval]: \u001b[0mLoading model...\n",
      "\u001b[32m[04/20 11:46:18 yolact.eval]: \u001b[0mModel loaded.\n",
      "\n",
      "Processing Images  ██████████████████████████████     65 /     65 (100.00%)     5.12 fps        \n",
      "Saving data...\n",
      "\u001b[32m[04/20 11:46:41 yolact.eval]: \u001b[0mCalculating mAP...\n",
      "\u001b[32m[04/20 11:46:41 yolact.eval]: \u001b[0m\n",
      "       |  all  |  .50  |  .55  |  .60  |  .65  |  .70  |  .75  |  .80  |  .85  |  .90  |  .95  |\n",
      "-------+-------+-------+-------+-------+-------+-------+-------+-------+-------+-------+-------+\n",
      "   box | 30.96 | 50.76 | 50.59 | 48.83 | 48.31 | 39.94 | 32.59 | 23.47 | 11.29 |  3.77 |  0.08 |\n",
      "  mask | 36.01 | 50.63 | 47.83 | 44.74 | 44.52 | 42.65 | 39.89 | 38.53 | 29.18 | 17.28 |  4.89 |\n",
      "-------+-------+-------+-------+-------+-------+-------+-------+-------+-------+-------+-------+\n"
     ]
    }
   ],
   "source": [
    "!python3 eval.py --trained_model=weights/yolact_edge_lvis_lwf_1_15000.pth --score_threshold=0.3 --disable_tensorrt --config=yolact_edge_config_lwf --max_images=100\n",
    "!python3 eval.py --trained_model=weights/yolact_edge_lvis_lwf_1_15000.pth --score_threshold=0.3 --disable_tensorrt --config=yolact_edge_lvis_config_lwf"
   ]
  },
  {
   "cell_type": "code",
   "execution_count": 4,
   "metadata": {
    "vscode": {
     "languageId": "shellscript"
    }
   },
   "outputs": [
    {
     "name": "stdout",
     "output_type": "stream",
     "text": [
      "/home/saicharanm22/.local/lib/python3.10/site-packages/torch/cuda/__init__.py:497: UserWarning: Can't initialize NVML\n",
      "  warnings.warn(\"Can't initialize NVML\")\n",
      "loading annotations into memory...\n",
      "Done (t=1.34s)\n",
      "creating index...\n",
      "index created!\n",
      "\u001b[32m[04/20 11:46:53 yolact.eval]: \u001b[0mLoading model...\n",
      "\u001b[32m[04/20 11:46:57 yolact.eval]: \u001b[0mModel loaded.\n",
      "\n",
      "Processing Images  ██████████████████████████████    100 /    100 (100.00%)     5.33 fps        \n",
      "Saving data...\n",
      "\u001b[32m[04/20 11:47:30 yolact.eval]: \u001b[0mCalculating mAP...\n",
      "\u001b[32m[04/20 11:47:30 yolact.eval]: \u001b[0m\n",
      "       |  all  |  .50  |  .55  |  .60  |  .65  |  .70  |  .75  |  .80  |  .85  |  .90  |  .95  |\n",
      "-------+-------+-------+-------+-------+-------+-------+-------+-------+-------+-------+-------+\n",
      "   box | 10.23 | 29.66 | 25.37 | 20.21 | 12.95 |  8.93 |  4.10 |  0.77 |  0.20 |  0.06 |  0.00 |\n",
      "  mask | 14.67 | 29.76 | 27.09 | 24.45 | 21.60 | 16.20 | 13.31 | 10.54 |  2.43 |  1.27 |  0.00 |\n",
      "-------+-------+-------+-------+-------+-------+-------+-------+-------+-------+-------+-------+\n",
      "/home/saicharanm22/.local/lib/python3.10/site-packages/torch/cuda/__init__.py:497: UserWarning: Can't initialize NVML\n",
      "  warnings.warn(\"Can't initialize NVML\")\n",
      "loading annotations into memory...\n",
      "Done (t=0.01s)\n",
      "creating index...\n",
      "index created!\n",
      "\u001b[32m[04/20 11:47:40 yolact.eval]: \u001b[0mLoading model...\n",
      "\u001b[32m[04/20 11:47:45 yolact.eval]: \u001b[0mModel loaded.\n",
      "\n",
      "Processing Images  ██████████████████████████████     65 /     65 (100.00%)     4.58 fps        \n",
      "Saving data...\n",
      "\u001b[32m[04/20 11:48:14 yolact.eval]: \u001b[0mCalculating mAP...\n",
      "\u001b[32m[04/20 11:48:14 yolact.eval]: \u001b[0m\n",
      "       |  all  |  .50  |  .55  |  .60  |  .65  |  .70  |  .75  |  .80  |  .85  |  .90  |  .95  |\n",
      "-------+-------+-------+-------+-------+-------+-------+-------+-------+-------+-------+-------+\n",
      "   box | 35.17 | 57.39 | 54.81 | 52.37 | 48.64 | 46.59 | 42.68 | 28.96 | 14.51 |  5.09 |  0.69 |\n",
      "  mask | 40.99 | 57.09 | 56.85 | 55.49 | 53.65 | 47.04 | 41.81 | 40.31 | 33.95 | 17.98 |  5.69 |\n",
      "-------+-------+-------+-------+-------+-------+-------+-------+-------+-------+-------+-------+\n",
      "/home/saicharanm22/.local/lib/python3.10/site-packages/torch/cuda/__init__.py:497: UserWarning: Can't initialize NVML\n",
      "  warnings.warn(\"Can't initialize NVML\")\n",
      "loading annotations into memory...\n",
      "Done (t=0.00s)\n",
      "creating index...\n",
      "index created!\n",
      "\u001b[32m[04/20 11:48:23 yolact.eval]: \u001b[0mLoading model...\n",
      "\u001b[32m[04/20 11:48:28 yolact.eval]: \u001b[0mModel loaded.\n",
      "\n",
      "Processing Images  ████████████████████████░░░░░░     54 /     65 (83.08%)     5.02 fps        Warning: Augmentation output an example with no ground truth. Resampling...\n",
      "Processing Images  ██████████████████████████████     65 /     65 (100.00%)     5.37 fps        \n",
      "Saving data...\n",
      "\u001b[32m[04/20 11:48:49 yolact.eval]: \u001b[0mCalculating mAP...\n",
      "\u001b[32m[04/20 11:48:49 yolact.eval]: \u001b[0m\n",
      "       |  all  |  .50  |  .55  |  .60  |  .65  |  .70  |  .75  |  .80  |  .85  |  .90  |  .95  |\n",
      "-------+-------+-------+-------+-------+-------+-------+-------+-------+-------+-------+-------+\n",
      "   box |  0.00 |  0.00 |  0.00 |  0.00 |  0.00 |  0.00 |  0.00 |  0.00 |  0.00 |  0.00 |  0.00 |\n",
      "  mask |  0.00 |  0.00 |  0.00 |  0.00 |  0.00 |  0.00 |  0.00 |  0.00 |  0.00 |  0.00 |  0.00 |\n",
      "-------+-------+-------+-------+-------+-------+-------+-------+-------+-------+-------+-------+\n"
     ]
    }
   ],
   "source": [
    "!python3 eval.py --trained_model=weights/yolact_edge_lvis_lwf_1_20000.pth --score_threshold=0.3 --disable_tensorrt --config=yolact_edge_config_lwf --max_images=100\n",
    "!python3 eval.py --trained_model=weights/yolact_edge_lvis_lwf_1_20000.pth --score_threshold=0.3 --disable_tensorrt --config=yolact_edge_lvis_config_lwf\n",
    "!python3 eval.py --trained_model=weights/yolact_edge_lvis_lwf_1_20000.pth --score_threshold=0.95 --disable_tensorrt --config=yolact_edge_lvis_config"
   ]
  },
  {
   "cell_type": "code",
   "execution_count": 5,
   "metadata": {
    "vscode": {
     "languageId": "shellscript"
    }
   },
   "outputs": [
    {
     "name": "stdout",
     "output_type": "stream",
     "text": [
      "/home/saicharanm22/.local/lib/python3.10/site-packages/torch/cuda/__init__.py:497: UserWarning: Can't initialize NVML\n",
      "  warnings.warn(\"Can't initialize NVML\")\n",
      "loading annotations into memory...\n",
      "Done (t=1.38s)\n",
      "creating index...\n",
      "index created!\n",
      "\u001b[32m[04/20 11:48:59 yolact.eval]: \u001b[0mLoading model...\n",
      "\u001b[32m[04/20 11:49:03 yolact.eval]: \u001b[0mModel loaded.\n",
      "\n",
      "Processing Images  ██████████████████████████████    100 /    100 (100.00%)     5.32 fps        \n",
      "Saving data...\n",
      "\u001b[32m[04/20 11:49:35 yolact.eval]: \u001b[0mCalculating mAP...\n",
      "\u001b[32m[04/20 11:49:36 yolact.eval]: \u001b[0m\n",
      "       |  all  |  .50  |  .55  |  .60  |  .65  |  .70  |  .75  |  .80  |  .85  |  .90  |  .95  |\n",
      "-------+-------+-------+-------+-------+-------+-------+-------+-------+-------+-------+-------+\n",
      "   box | 10.34 | 29.35 | 25.52 | 20.54 | 12.63 |  8.42 |  4.28 |  1.81 |  0.68 |  0.12 |  0.00 |\n",
      "  mask | 15.93 | 29.14 | 28.05 | 26.07 | 23.70 | 20.11 | 14.49 | 10.79 |  6.03 |  0.81 |  0.12 |\n",
      "-------+-------+-------+-------+-------+-------+-------+-------+-------+-------+-------+-------+\n",
      "/home/saicharanm22/.local/lib/python3.10/site-packages/torch/cuda/__init__.py:497: UserWarning: Can't initialize NVML\n",
      "  warnings.warn(\"Can't initialize NVML\")\n",
      "loading annotations into memory...\n",
      "Done (t=0.01s)\n",
      "creating index...\n",
      "index created!\n",
      "\u001b[32m[04/20 11:49:46 yolact.eval]: \u001b[0mLoading model...\n",
      "\u001b[32m[04/20 11:49:50 yolact.eval]: \u001b[0mModel loaded.\n",
      "\n",
      "Processing Images  ██████████████████████████████     65 /     65 (100.00%)     5.38 fps        \n",
      "Saving data...\n",
      "\u001b[32m[04/20 11:50:14 yolact.eval]: \u001b[0mCalculating mAP...\n",
      "\u001b[32m[04/20 11:50:14 yolact.eval]: \u001b[0m\n",
      "       |  all  |  .50  |  .55  |  .60  |  .65  |  .70  |  .75  |  .80  |  .85  |  .90  |  .95  |\n",
      "-------+-------+-------+-------+-------+-------+-------+-------+-------+-------+-------+-------+\n",
      "   box | 43.87 | 64.38 | 63.75 | 62.10 | 61.48 | 55.68 | 53.79 | 44.72 | 29.10 |  3.35 |  0.31 |\n",
      "  mask | 46.90 | 62.61 | 62.11 | 58.77 | 58.22 | 57.07 | 52.56 | 46.01 | 39.73 | 26.52 |  5.41 |\n",
      "-------+-------+-------+-------+-------+-------+-------+-------+-------+-------+-------+-------+\n",
      "/home/saicharanm22/.local/lib/python3.10/site-packages/torch/cuda/__init__.py:497: UserWarning: Can't initialize NVML\n",
      "  warnings.warn(\"Can't initialize NVML\")\n",
      "loading annotations into memory...\n",
      "Done (t=0.00s)\n",
      "creating index...\n",
      "index created!\n",
      "\u001b[32m[04/20 11:50:21 yolact.eval]: \u001b[0mLoading model...\n",
      "\u001b[32m[04/20 11:50:24 yolact.eval]: \u001b[0mModel loaded.\n",
      "\n",
      "Processing Images  ████████████████████████░░░░░░     54 /     65 (83.08%)     4.36 fps        Warning: Augmentation output an example with no ground truth. Resampling...\n",
      "Processing Images  ██████████████████████████████     65 /     65 (100.00%)     4.71 fps        \n",
      "Saving data...\n",
      "\u001b[32m[04/20 11:50:46 yolact.eval]: \u001b[0mCalculating mAP...\n",
      "\u001b[32m[04/20 11:50:46 yolact.eval]: \u001b[0m\n",
      "       |  all  |  .50  |  .55  |  .60  |  .65  |  .70  |  .75  |  .80  |  .85  |  .90  |  .95  |\n",
      "-------+-------+-------+-------+-------+-------+-------+-------+-------+-------+-------+-------+\n",
      "   box |  0.00 |  0.00 |  0.00 |  0.00 |  0.00 |  0.00 |  0.00 |  0.00 |  0.00 |  0.00 |  0.00 |\n",
      "  mask |  0.00 |  0.00 |  0.00 |  0.00 |  0.00 |  0.00 |  0.00 |  0.00 |  0.00 |  0.00 |  0.00 |\n",
      "-------+-------+-------+-------+-------+-------+-------+-------+-------+-------+-------+-------+\n"
     ]
    }
   ],
   "source": [
    "!python3 eval.py --trained_model=weights/yolact_edge_lvis_lwf_1_25000.pth --score_threshold=0.3 --disable_tensorrt --config=yolact_edge_config_lwf --max_images=100\n",
    "!python3 eval.py --trained_model=weights/yolact_edge_lvis_lwf_1_25000.pth --score_threshold=0.3 --disable_tensorrt --config=yolact_edge_lvis_config_lwf\n",
    "!python3 eval.py --trained_model=weights/yolact_edge_lvis_lwf_1_25000.pth --score_threshold=0.95 --disable_tensorrt --config=yolact_edge_lvis_config"
   ]
  },
  {
   "cell_type": "code",
   "execution_count": 6,
   "metadata": {
    "vscode": {
     "languageId": "shellscript"
    }
   },
   "outputs": [
    {
     "name": "stdout",
     "output_type": "stream",
     "text": [
      "/home/saicharanm22/.local/lib/python3.10/site-packages/torch/cuda/__init__.py:497: UserWarning: Can't initialize NVML\n",
      "  warnings.warn(\"Can't initialize NVML\")\n",
      "loading annotations into memory...\n",
      "Done (t=1.00s)\n",
      "creating index...\n",
      "index created!\n",
      "\u001b[32m[04/20 11:50:56 yolact.eval]: \u001b[0mLoading model...\n",
      "\u001b[32m[04/20 11:51:00 yolact.eval]: \u001b[0mModel loaded.\n",
      "\n",
      "Processing Images  ██████████████████████████████    100 /    100 (100.00%)     4.49 fps        \n",
      "Saving data...\n",
      "\u001b[32m[04/20 11:51:35 yolact.eval]: \u001b[0mCalculating mAP...\n",
      "\u001b[32m[04/20 11:51:35 yolact.eval]: \u001b[0m\n",
      "       |  all  |  .50  |  .55  |  .60  |  .65  |  .70  |  .75  |  .80  |  .85  |  .90  |  .95  |\n",
      "-------+-------+-------+-------+-------+-------+-------+-------+-------+-------+-------+-------+\n",
      "   box | 11.94 | 31.08 | 26.20 | 21.80 | 14.72 | 12.57 |  7.70 |  3.60 |  1.77 |  0.00 |  0.00 |\n",
      "  mask | 17.35 | 32.47 | 31.26 | 28.58 | 25.50 | 21.85 | 15.61 | 11.25 |  5.40 |  1.33 |  0.23 |\n",
      "-------+-------+-------+-------+-------+-------+-------+-------+-------+-------+-------+-------+\n",
      "/home/saicharanm22/.local/lib/python3.10/site-packages/torch/cuda/__init__.py:497: UserWarning: Can't initialize NVML\n",
      "  warnings.warn(\"Can't initialize NVML\")\n",
      "loading annotations into memory...\n",
      "Done (t=0.00s)\n",
      "creating index...\n",
      "index created!\n",
      "\u001b[32m[04/20 11:51:47 yolact.eval]: \u001b[0mLoading model...\n",
      "\u001b[32m[04/20 11:51:51 yolact.eval]: \u001b[0mModel loaded.\n",
      "\n",
      "Processing Images  ██████████████████████████████     65 /     65 (100.00%)     5.33 fps        \n",
      "Saving data...\n",
      "\u001b[32m[04/20 11:52:14 yolact.eval]: \u001b[0mCalculating mAP...\n",
      "\u001b[32m[04/20 11:52:14 yolact.eval]: \u001b[0m\n",
      "       |  all  |  .50  |  .55  |  .60  |  .65  |  .70  |  .75  |  .80  |  .85  |  .90  |  .95  |\n",
      "-------+-------+-------+-------+-------+-------+-------+-------+-------+-------+-------+-------+\n",
      "   box | 35.93 | 51.83 | 51.08 | 49.29 | 48.52 | 47.42 | 45.55 | 36.66 | 22.52 |  6.34 |  0.09 |\n",
      "  mask | 38.10 | 51.04 | 50.27 | 50.03 | 48.25 | 43.98 | 37.40 | 34.11 | 31.70 | 27.21 |  7.01 |\n",
      "-------+-------+-------+-------+-------+-------+-------+-------+-------+-------+-------+-------+\n",
      "/home/saicharanm22/.local/lib/python3.10/site-packages/torch/cuda/__init__.py:497: UserWarning: Can't initialize NVML\n",
      "  warnings.warn(\"Can't initialize NVML\")\n",
      "loading annotations into memory...\n",
      "Done (t=0.01s)\n",
      "creating index...\n",
      "index created!\n",
      "\u001b[32m[04/20 11:52:25 yolact.eval]: \u001b[0mLoading model...\n",
      "\u001b[32m[04/20 11:52:31 yolact.eval]: \u001b[0mModel loaded.\n",
      "\n",
      "Processing Images  ████████████████████████░░░░░░     54 /     65 (83.08%)     4.15 fps        Warning: Augmentation output an example with no ground truth. Resampling...\n",
      "Processing Images  ██████████████████████████████     65 /     65 (100.00%)     4.62 fps        \n",
      "Saving data...\n",
      "\u001b[32m[04/20 11:52:54 yolact.eval]: \u001b[0mCalculating mAP...\n",
      "\u001b[32m[04/20 11:52:54 yolact.eval]: \u001b[0m\n",
      "       |  all  |  .50  |  .55  |  .60  |  .65  |  .70  |  .75  |  .80  |  .85  |  .90  |  .95  |\n",
      "-------+-------+-------+-------+-------+-------+-------+-------+-------+-------+-------+-------+\n",
      "   box |  0.00 |  0.00 |  0.00 |  0.00 |  0.00 |  0.00 |  0.00 |  0.00 |  0.00 |  0.00 |  0.00 |\n",
      "  mask |  0.00 |  0.00 |  0.00 |  0.00 |  0.00 |  0.00 |  0.00 |  0.00 |  0.00 |  0.00 |  0.00 |\n",
      "-------+-------+-------+-------+-------+-------+-------+-------+-------+-------+-------+-------+\n"
     ]
    }
   ],
   "source": [
    "!python3 eval.py --trained_model=weights/yolact_edge_lvis_lwf_2_30000.pth --score_threshold=0.3 --disable_tensorrt --config=yolact_edge_config_lwf --max_images=100\n",
    "!python3 eval.py --trained_model=weights/yolact_edge_lvis_lwf_2_30000.pth --score_threshold=0.3 --disable_tensorrt --config=yolact_edge_lvis_config_lwf\n",
    "!python3 eval.py --trained_model=weights/yolact_edge_lvis_lwf_2_30000.pth --score_threshold=0.95 --disable_tensorrt --config=yolact_edge_lvis_config"
   ]
  },
  {
   "attachments": {},
   "cell_type": "markdown",
   "metadata": {},
   "source": [
    "***********************************************************************************************************************************"
   ]
  },
  {
   "attachments": {},
   "cell_type": "markdown",
   "metadata": {},
   "source": [
    "## Best in terms of accuracy"
   ]
  },
  {
   "cell_type": "code",
   "execution_count": 10,
   "metadata": {
    "vscode": {
     "languageId": "shellscript"
    }
   },
   "outputs": [
    {
     "name": "stdout",
     "output_type": "stream",
     "text": [
      "/home/saicharanm22/.local/lib/python3.10/site-packages/torch/cuda/__init__.py:497: UserWarning: Can't initialize NVML\n",
      "  warnings.warn(\"Can't initialize NVML\")\n",
      "loading annotations into memory...\n",
      "Done (t=0.87s)\n",
      "creating index...\n",
      "index created!\n",
      "\u001b[32m[04/20 12:02:12 yolact.eval]: \u001b[0mLoading model...\n",
      "\u001b[32m[04/20 12:02:15 yolact.eval]: \u001b[0mModel loaded.\n",
      "\n",
      "Processing Images  ██████████████████████████████    100 /    100 (100.00%)     5.51 fps        \n",
      "Saving data...\n",
      "\u001b[32m[04/20 12:02:46 yolact.eval]: \u001b[0mCalculating mAP...\n",
      "\u001b[32m[04/20 12:02:46 yolact.eval]: \u001b[0m\n",
      "       |  all  |  .50  |  .55  |  .60  |  .65  |  .70  |  .75  |  .80  |  .85  |  .90  |  .95  |\n",
      "-------+-------+-------+-------+-------+-------+-------+-------+-------+-------+-------+-------+\n",
      "   box | 12.02 | 32.08 | 28.14 | 23.23 | 16.06 | 11.51 |  6.18 |  2.85 |  0.08 |  0.06 |  0.00 |\n",
      "  mask | 16.79 | 31.60 | 30.40 | 29.38 | 26.68 | 21.49 | 15.28 |  8.64 |  3.10 |  1.34 |  0.00 |\n",
      "-------+-------+-------+-------+-------+-------+-------+-------+-------+-------+-------+-------+\n",
      "/home/saicharanm22/.local/lib/python3.10/site-packages/torch/cuda/__init__.py:497: UserWarning: Can't initialize NVML\n",
      "  warnings.warn(\"Can't initialize NVML\")\n",
      "loading annotations into memory...\n",
      "Done (t=0.00s)\n",
      "creating index...\n",
      "index created!\n",
      "\u001b[32m[04/20 12:02:54 yolact.eval]: \u001b[0mLoading model...\n",
      "\u001b[32m[04/20 12:02:57 yolact.eval]: \u001b[0mModel loaded.\n",
      "\n",
      "Processing Images  ██████████████████████████████     65 /     65 (100.00%)     6.45 fps        \n",
      "Saving data...\n",
      "\u001b[32m[04/20 12:03:16 yolact.eval]: \u001b[0mCalculating mAP...\n",
      "\u001b[32m[04/20 12:03:16 yolact.eval]: \u001b[0m\n",
      "       |  all  |  .50  |  .55  |  .60  |  .65  |  .70  |  .75  |  .80  |  .85  |  .90  |  .95  |\n",
      "-------+-------+-------+-------+-------+-------+-------+-------+-------+-------+-------+-------+\n",
      "   box | 37.55 | 58.95 | 55.75 | 55.18 | 53.93 | 50.13 | 40.09 | 34.52 | 21.10 |  5.63 |  0.25 |\n",
      "  mask | 42.04 | 55.54 | 54.47 | 53.10 | 51.85 | 48.52 | 47.83 | 41.91 | 37.37 | 22.63 |  7.22 |\n",
      "-------+-------+-------+-------+-------+-------+-------+-------+-------+-------+-------+-------+\n",
      "/home/saicharanm22/.local/lib/python3.10/site-packages/torch/cuda/__init__.py:497: UserWarning: Can't initialize NVML\n",
      "  warnings.warn(\"Can't initialize NVML\")\n",
      "loading annotations into memory...\n",
      "Done (t=0.00s)\n",
      "creating index...\n",
      "index created!\n",
      "\u001b[32m[04/20 12:03:24 yolact.eval]: \u001b[0mLoading model...\n",
      "\u001b[32m[04/20 12:03:27 yolact.eval]: \u001b[0mModel loaded.\n",
      "\n",
      "Processing Images  ████████████████████████░░░░░░     54 /     65 (83.08%)     4.80 fps        Warning: Augmentation output an example with no ground truth. Resampling...\n",
      "Processing Images  ██████████████████████████████     65 /     65 (100.00%)     5.10 fps        \n",
      "Saving data...\n",
      "\u001b[32m[04/20 12:03:47 yolact.eval]: \u001b[0mCalculating mAP...\n",
      "\u001b[32m[04/20 12:03:47 yolact.eval]: \u001b[0m\n",
      "       |  all  |  .50  |  .55  |  .60  |  .65  |  .70  |  .75  |  .80  |  .85  |  .90  |  .95  |\n",
      "-------+-------+-------+-------+-------+-------+-------+-------+-------+-------+-------+-------+\n",
      "   box |  0.00 |  0.00 |  0.00 |  0.00 |  0.00 |  0.00 |  0.00 |  0.00 |  0.00 |  0.00 |  0.00 |\n",
      "  mask |  0.00 |  0.00 |  0.00 |  0.00 |  0.00 |  0.00 |  0.00 |  0.00 |  0.00 |  0.00 |  0.00 |\n",
      "-------+-------+-------+-------+-------+-------+-------+-------+-------+-------+-------+-------+\n"
     ]
    }
   ],
   "source": [
    "!python3 eval.py --trained_model=weights/yolact_edge_lvis_lwf_2_35000.pth --score_threshold=0.3 --disable_tensorrt --config=yolact_edge_config_lwf --max_images=100\n",
    "!python3 eval.py --trained_model=weights/yolact_edge_lvis_lwf_2_35000.pth --score_threshold=0.3 --disable_tensorrt --config=yolact_edge_lvis_config_lwf\n",
    "!python3 eval.py --trained_model=weights/yolact_edge_lvis_lwf_2_35000.pth --score_threshold=0.95 --disable_tensorrt --config=yolact_edge_lvis_config"
   ]
  },
  {
   "attachments": {},
   "cell_type": "markdown",
   "metadata": {},
   "source": [
    "***************"
   ]
  },
  {
   "cell_type": "code",
   "execution_count": 8,
   "metadata": {
    "vscode": {
     "languageId": "shellscript"
    }
   },
   "outputs": [
    {
     "name": "stdout",
     "output_type": "stream",
     "text": [
      "/home/saicharanm22/.local/lib/python3.10/site-packages/torch/cuda/__init__.py:497: UserWarning: Can't initialize NVML\n",
      "  warnings.warn(\"Can't initialize NVML\")\n",
      "loading annotations into memory...\n",
      "Done (t=1.49s)\n",
      "creating index...\n",
      "index created!\n",
      "\u001b[32m[04/20 11:55:18 yolact.eval]: \u001b[0mLoading model...\n",
      "\u001b[32m[04/20 11:55:22 yolact.eval]: \u001b[0mModel loaded.\n",
      "\n",
      "Processing Images  ██████████████████████████████    100 /    100 (100.00%)     5.21 fps        \n",
      "Saving data...\n",
      "\u001b[32m[04/20 11:55:55 yolact.eval]: \u001b[0mCalculating mAP...\n",
      "\u001b[32m[04/20 11:55:55 yolact.eval]: \u001b[0m\n",
      "       |  all  |  .50  |  .55  |  .60  |  .65  |  .70  |  .75  |  .80  |  .85  |  .90  |  .95  |\n",
      "-------+-------+-------+-------+-------+-------+-------+-------+-------+-------+-------+-------+\n",
      "   box | 13.67 | 35.71 | 30.67 | 25.45 | 17.24 | 13.61 |  8.08 |  3.98 |  1.62 |  0.25 |  0.06 |\n",
      "  mask | 16.37 | 33.16 | 30.84 | 27.67 | 24.02 | 20.30 | 13.82 |  9.36 |  3.99 |  0.56 |  0.00 |\n",
      "-------+-------+-------+-------+-------+-------+-------+-------+-------+-------+-------+-------+\n",
      "/home/saicharanm22/.local/lib/python3.10/site-packages/torch/cuda/__init__.py:497: UserWarning: Can't initialize NVML\n",
      "  warnings.warn(\"Can't initialize NVML\")\n",
      "loading annotations into memory...\n",
      "Done (t=0.01s)\n",
      "creating index...\n",
      "index created!\n",
      "\u001b[32m[04/20 11:56:07 yolact.eval]: \u001b[0mLoading model...\n",
      "\u001b[32m[04/20 11:56:10 yolact.eval]: \u001b[0mModel loaded.\n",
      "\n",
      "Processing Images  ██████████████████████████████     65 /     65 (100.00%)     6.04 fps        \n",
      "Saving data...\n",
      "\u001b[32m[04/20 11:56:30 yolact.eval]: \u001b[0mCalculating mAP...\n",
      "\u001b[32m[04/20 11:56:30 yolact.eval]: \u001b[0m\n",
      "       |  all  |  .50  |  .55  |  .60  |  .65  |  .70  |  .75  |  .80  |  .85  |  .90  |  .95  |\n",
      "-------+-------+-------+-------+-------+-------+-------+-------+-------+-------+-------+-------+\n",
      "   box | 40.90 | 61.68 | 61.22 | 59.76 | 55.71 | 53.54 | 49.44 | 36.88 | 22.99 |  7.79 |  0.01 |\n",
      "  mask | 44.21 | 60.36 | 58.84 | 57.98 | 55.79 | 54.23 | 51.64 | 41.82 | 34.38 | 18.47 |  8.62 |\n",
      "-------+-------+-------+-------+-------+-------+-------+-------+-------+-------+-------+-------+\n",
      "/home/saicharanm22/.local/lib/python3.10/site-packages/torch/cuda/__init__.py:497: UserWarning: Can't initialize NVML\n",
      "  warnings.warn(\"Can't initialize NVML\")\n",
      "loading annotations into memory...\n",
      "Done (t=0.00s)\n",
      "creating index...\n",
      "index created!\n",
      "\u001b[32m[04/20 11:56:40 yolact.eval]: \u001b[0mLoading model...\n",
      "\u001b[32m[04/20 11:56:43 yolact.eval]: \u001b[0mModel loaded.\n",
      "\n",
      "Processing Images  ████████████████████████░░░░░░     54 /     65 (83.08%)     6.00 fps        Warning: Augmentation output an example with no ground truth. Resampling...\n",
      "Processing Images  ██████████████████████████████     65 /     65 (100.00%)     6.31 fps        \n",
      "Saving data...\n",
      "\u001b[32m[04/20 11:57:02 yolact.eval]: \u001b[0mCalculating mAP...\n",
      "\u001b[32m[04/20 11:57:02 yolact.eval]: \u001b[0m\n",
      "       |  all  |  .50  |  .55  |  .60  |  .65  |  .70  |  .75  |  .80  |  .85  |  .90  |  .95  |\n",
      "-------+-------+-------+-------+-------+-------+-------+-------+-------+-------+-------+-------+\n",
      "   box |  0.00 |  0.00 |  0.00 |  0.00 |  0.00 |  0.00 |  0.00 |  0.00 |  0.00 |  0.00 |  0.00 |\n",
      "  mask |  0.00 |  0.00 |  0.00 |  0.00 |  0.00 |  0.00 |  0.00 |  0.00 |  0.00 |  0.00 |  0.00 |\n",
      "-------+-------+-------+-------+-------+-------+-------+-------+-------+-------+-------+-------+\n"
     ]
    }
   ],
   "source": [
    "!python3 eval.py --trained_model=weights/yolact_edge_lvis_lwf_2_40000.pth --score_threshold=0.3 --disable_tensorrt --config=yolact_edge_config_lwf --max_images=100\n",
    "!python3 eval.py --trained_model=weights/yolact_edge_lvis_lwf_2_40000.pth --score_threshold=0.3 --disable_tensorrt --config=yolact_edge_lvis_config_lwf\n",
    "!python3 eval.py --trained_model=weights/yolact_edge_lvis_lwf_2_40000.pth --score_threshold=0.3 --disable_tensorrt --config=yolact_edge_lvis_config"
   ]
  },
  {
   "cell_type": "code",
   "execution_count": 9,
   "metadata": {
    "vscode": {
     "languageId": "shellscript"
    }
   },
   "outputs": [
    {
     "name": "stdout",
     "output_type": "stream",
     "text": [
      "/home/saicharanm22/.local/lib/python3.10/site-packages/torch/cuda/__init__.py:497: UserWarning: Can't initialize NVML\n",
      "  warnings.warn(\"Can't initialize NVML\")\n",
      "loading annotations into memory...\n",
      "Done (t=0.88s)\n",
      "creating index...\n",
      "index created!\n",
      "\u001b[32m[04/20 11:57:10 yolact.eval]: \u001b[0mLoading model...\n",
      "\u001b[32m[04/20 11:57:13 yolact.eval]: \u001b[0mModel loaded.\n",
      "\n",
      "Processing Images  ██████████████████████████████    100 /    100 (100.00%)     6.46 fps        \n",
      "Saving data...\n",
      "\u001b[32m[04/20 11:57:38 yolact.eval]: \u001b[0mCalculating mAP...\n",
      "\u001b[32m[04/20 11:57:38 yolact.eval]: \u001b[0m\n",
      "       |  all  |  .50  |  .55  |  .60  |  .65  |  .70  |  .75  |  .80  |  .85  |  .90  |  .95  |\n",
      "-------+-------+-------+-------+-------+-------+-------+-------+-------+-------+-------+-------+\n",
      "   box | 13.86 | 33.12 | 28.96 | 24.56 | 19.19 | 14.21 |  9.65 |  6.15 |  1.96 |  0.71 |  0.07 |\n",
      "  mask | 15.84 | 31.46 | 31.26 | 25.21 | 23.35 | 18.11 | 14.62 |  9.41 |  4.10 |  0.73 |  0.12 |\n",
      "-------+-------+-------+-------+-------+-------+-------+-------+-------+-------+-------+-------+\n",
      "/home/saicharanm22/.local/lib/python3.10/site-packages/torch/cuda/__init__.py:497: UserWarning: Can't initialize NVML\n",
      "  warnings.warn(\"Can't initialize NVML\")\n",
      "loading annotations into memory...\n",
      "Done (t=0.00s)\n",
      "creating index...\n",
      "index created!\n",
      "\u001b[32m[04/20 11:57:46 yolact.eval]: \u001b[0mLoading model...\n",
      "\u001b[32m[04/20 11:57:49 yolact.eval]: \u001b[0mModel loaded.\n",
      "\n",
      "Processing Images  ██████████████████████████████     65 /     65 (100.00%)     6.24 fps        \n",
      "Saving data...\n",
      "\u001b[32m[04/20 11:58:07 yolact.eval]: \u001b[0mCalculating mAP...\n",
      "\u001b[32m[04/20 11:58:07 yolact.eval]: \u001b[0m\n",
      "       |  all  |  .50  |  .55  |  .60  |  .65  |  .70  |  .75  |  .80  |  .85  |  .90  |  .95  |\n",
      "-------+-------+-------+-------+-------+-------+-------+-------+-------+-------+-------+-------+\n",
      "   box | 41.02 | 57.59 | 57.04 | 56.51 | 54.22 | 53.46 | 46.21 | 41.14 | 23.58 | 15.44 |  4.96 |\n",
      "  mask | 43.30 | 57.11 | 56.63 | 55.35 | 54.76 | 49.11 | 43.96 | 40.63 | 38.30 | 25.22 | 11.98 |\n",
      "-------+-------+-------+-------+-------+-------+-------+-------+-------+-------+-------+-------+\n",
      "/home/saicharanm22/.local/lib/python3.10/site-packages/torch/cuda/__init__.py:497: UserWarning: Can't initialize NVML\n",
      "  warnings.warn(\"Can't initialize NVML\")\n",
      "loading annotations into memory...\n",
      "Done (t=0.00s)\n",
      "creating index...\n",
      "index created!\n",
      "\u001b[32m[04/20 11:58:15 yolact.eval]: \u001b[0mLoading model...\n",
      "\u001b[32m[04/20 11:58:18 yolact.eval]: \u001b[0mModel loaded.\n",
      "\n",
      "Processing Images  ████████████████████████░░░░░░     54 /     65 (83.08%)     5.16 fps        Warning: Augmentation output an example with no ground truth. Resampling...\n",
      "Processing Images  ██████████████████████████████     65 /     65 (100.00%)     5.62 fps        \n",
      "Saving data...\n",
      "\u001b[32m[04/20 11:58:39 yolact.eval]: \u001b[0mCalculating mAP...\n",
      "\u001b[32m[04/20 11:58:39 yolact.eval]: \u001b[0m\n",
      "       |  all  |  .50  |  .55  |  .60  |  .65  |  .70  |  .75  |  .80  |  .85  |  .90  |  .95  |\n",
      "-------+-------+-------+-------+-------+-------+-------+-------+-------+-------+-------+-------+\n",
      "   box |  0.00 |  0.00 |  0.00 |  0.00 |  0.00 |  0.00 |  0.00 |  0.00 |  0.00 |  0.00 |  0.00 |\n",
      "  mask |  0.00 |  0.00 |  0.00 |  0.00 |  0.00 |  0.00 |  0.00 |  0.00 |  0.00 |  0.00 |  0.00 |\n",
      "-------+-------+-------+-------+-------+-------+-------+-------+-------+-------+-------+-------+\n"
     ]
    }
   ],
   "source": [
    "!python3 eval.py --trained_model=weights/yolact_edge_lvis_lwf_2_43000.pth --score_threshold=0.3 --disable_tensorrt --config=yolact_edge_config_lwf --max_images=100\n",
    "!python3 eval.py --trained_model=weights/yolact_edge_lvis_lwf_2_43000.pth --score_threshold=0.3 --disable_tensorrt --config=yolact_edge_lvis_config_lwf\n",
    "!python3 eval.py --trained_model=weights/yolact_edge_lvis_lwf_2_43000.pth --score_threshold=0.3 --disable_tensorrt --config=yolact_edge_lvis_config"
   ]
  }
 ],
 "metadata": {
  "kernelspec": {
   "display_name": "Python 3",
   "language": "python",
   "name": "python3"
  },
  "language_info": {
   "codemirror_mode": {
    "name": "ipython",
    "version": 3
   },
   "file_extension": ".py",
   "mimetype": "text/x-python",
   "name": "python",
   "nbconvert_exporter": "python",
   "pygments_lexer": "ipython3",
   "version": "3.10.6"
  },
  "orig_nbformat": 4
 },
 "nbformat": 4,
 "nbformat_minor": 2
}
