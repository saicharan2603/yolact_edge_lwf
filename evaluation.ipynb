{
 "cells": [
  {
   "cell_type": "code",
   "execution_count": 1,
   "metadata": {
    "vscode": {
     "languageId": "shellscript"
    }
   },
   "outputs": [
    {
     "name": "stdout",
     "output_type": "stream",
     "text": [
      "/home/saicharanm22/.local/lib/python3.10/site-packages/torch/cuda/__init__.py:497: UserWarning: Can't initialize NVML\n",
      "  warnings.warn(\"Can't initialize NVML\")\n",
      "loading annotations into memory...\n",
      "Done (t=1.50s)\n",
      "creating index...\n",
      "index created!\n",
      "\u001b[32m[04/20 11:00:12 yolact.eval]: \u001b[0mLoading model...\n",
      "\u001b[32m[04/20 11:00:17 yolact.eval]: \u001b[0mModel loaded.\n",
      "\n",
      "Processing Images  ██████████████████████████████   4952 /   4952 (100.00%)     7.65 fps        \n",
      "Saving data...\n",
      "\u001b[32m[04/20 11:11:24 yolact.eval]: \u001b[0mCalculating mAP...\n",
      "\u001b[32m[04/20 11:11:25 yolact.eval]: \u001b[0m\n",
      "       |  all  |  .50  |  .55  |  .60  |  .65  |  .70  |  .75  |  .80  |  .85  |  .90  |  .95  |\n",
      "-------+-------+-------+-------+-------+-------+-------+-------+-------+-------+-------+-------+\n",
      "   box |  9.12 | 26.17 | 22.28 | 17.33 | 12.17 |  7.24 |  3.77 |  1.54 |  0.54 |  0.14 |  0.02 |\n",
      "  mask | 13.60 | 27.12 | 25.16 | 22.99 | 19.99 | 16.32 | 12.22 |  7.70 |  3.55 |  0.93 |  0.04 |\n",
      "-------+-------+-------+-------+-------+-------+-------+-------+-------+-------+-------+-------+\n",
      "/home/saicharanm22/.local/lib/python3.10/site-packages/torch/cuda/__init__.py:497: UserWarning: Can't initialize NVML\n",
      "  warnings.warn(\"Can't initialize NVML\")\n",
      "loading annotations into memory...\n",
      "Done (t=0.00s)\n",
      "creating index...\n",
      "index created!\n",
      "\u001b[32m[04/20 11:11:37 yolact.eval]: \u001b[0mLoading model...\n",
      "\u001b[32m[04/20 11:11:40 yolact.eval]: \u001b[0mModel loaded.\n",
      "\n",
      "Processing Images  ██████████████████████████████     65 /     65 (100.00%)     7.02 fps        \n",
      "Saving data...\n",
      "\u001b[32m[04/20 11:11:59 yolact.eval]: \u001b[0mCalculating mAP...\n",
      "\u001b[32m[04/20 11:11:59 yolact.eval]: \u001b[0m\n",
      "       |  all  |  .50  |  .55  |  .60  |  .65  |  .70  |  .75  |  .80  |  .85  |  .90  |  .95  |\n",
      "-------+-------+-------+-------+-------+-------+-------+-------+-------+-------+-------+-------+\n",
      "   box | 34.65 | 59.03 | 58.36 | 53.12 | 50.63 | 44.86 | 35.60 | 24.79 | 15.16 |  4.74 |  0.23 |\n",
      "  mask | 41.64 | 57.60 | 57.21 | 56.26 | 52.32 | 51.40 | 47.69 | 37.52 | 31.21 | 18.58 |  6.62 |\n",
      "-------+-------+-------+-------+-------+-------+-------+-------+-------+-------+-------+-------+\n",
      "/home/saicharanm22/.local/lib/python3.10/site-packages/torch/cuda/__init__.py:497: UserWarning: Can't initialize NVML\n",
      "  warnings.warn(\"Can't initialize NVML\")\n",
      "loading annotations into memory...\n",
      "Done (t=0.00s)\n",
      "creating index...\n",
      "index created!\n",
      "\u001b[32m[04/20 11:12:05 yolact.eval]: \u001b[0mLoading model...\n",
      "\u001b[32m[04/20 11:12:09 yolact.eval]: \u001b[0mModel loaded.\n",
      "\n",
      "Processing Images  ████████████████████████░░░░░░     54 /     65 (83.08%)     6.25 fps        Warning: Augmentation output an example with no ground truth. Resampling...\n",
      "Processing Images  ██████████████████████████████     65 /     65 (100.00%)     6.75 fps        \n",
      "Saving data...\n",
      "\u001b[32m[04/20 11:12:25 yolact.eval]: \u001b[0mCalculating mAP...\n",
      "\u001b[32m[04/20 11:12:25 yolact.eval]: \u001b[0m\n",
      "       |  all  |  .50  |  .55  |  .60  |  .65  |  .70  |  .75  |  .80  |  .85  |  .90  |  .95  |\n",
      "-------+-------+-------+-------+-------+-------+-------+-------+-------+-------+-------+-------+\n",
      "   box |  0.00 |  0.00 |  0.00 |  0.00 |  0.00 |  0.00 |  0.00 |  0.00 |  0.00 |  0.00 |  0.00 |\n",
      "  mask |  0.00 |  0.00 |  0.00 |  0.00 |  0.00 |  0.00 |  0.00 |  0.00 |  0.00 |  0.00 |  0.00 |\n",
      "-------+-------+-------+-------+-------+-------+-------+-------+-------+-------+-------+-------+\n"
     ]
    }
   ],
   "source": [
    "!python3 eval.py --trained_model=weights/yolact_edge_lvis_lwf_0_5000.pth --score_threshold=0.3 --disable_tensorrt --config=yolact_edge_config_lwf\n",
    "!python3 eval.py --trained_model=weights/yolact_edge_lvis_lwf_0_5000.pth --score_threshold=0.3 --disable_tensorrt --config=yolact_edge_lvis_config_lwf\n",
    "!python3 eval.py --trained_model=weights/yolact_edge_lvis_lwf_0_5000.pth --score_threshold=0.95 --disable_tensorrt --config=yolact_edge_lvis_config"
   ]
  },
  {
   "cell_type": "code",
   "execution_count": 2,
   "metadata": {
    "vscode": {
     "languageId": "shellscript"
    }
   },
   "outputs": [
    {
     "name": "stdout",
     "output_type": "stream",
     "text": [
      "/home/saicharanm22/.local/lib/python3.10/site-packages/torch/cuda/__init__.py:497: UserWarning: Can't initialize NVML\n",
      "  warnings.warn(\"Can't initialize NVML\")\n",
      "loading annotations into memory...\n",
      "Done (t=1.14s)\n",
      "creating index...\n",
      "index created!\n",
      "\u001b[32m[04/20 11:12:34 yolact.eval]: \u001b[0mLoading model...\n",
      "\u001b[32m[04/20 11:12:39 yolact.eval]: \u001b[0mModel loaded.\n",
      "\n",
      "Processing Images  ██████████████████████████████   4952 /   4952 (100.00%)     8.75 fps        \n",
      "Saving data...\n",
      "\u001b[32m[04/20 11:22:19 yolact.eval]: \u001b[0mCalculating mAP...\n",
      "\u001b[32m[04/20 11:22:20 yolact.eval]: \u001b[0m\n",
      "       |  all  |  .50  |  .55  |  .60  |  .65  |  .70  |  .75  |  .80  |  .85  |  .90  |  .95  |\n",
      "-------+-------+-------+-------+-------+-------+-------+-------+-------+-------+-------+-------+\n",
      "   box | 10.52 | 27.52 | 24.41 | 20.29 | 14.99 |  9.62 |  5.40 |  2.17 |  0.66 |  0.15 |  0.02 |\n",
      "  mask | 13.30 | 26.62 | 24.91 | 22.47 | 19.63 | 16.11 | 12.06 |  7.37 |  3.06 |  0.71 |  0.04 |\n",
      "-------+-------+-------+-------+-------+-------+-------+-------+-------+-------+-------+-------+\n",
      "/home/saicharanm22/.local/lib/python3.10/site-packages/torch/cuda/__init__.py:497: UserWarning: Can't initialize NVML\n",
      "  warnings.warn(\"Can't initialize NVML\")\n",
      "loading annotations into memory...\n",
      "Done (t=0.00s)\n",
      "creating index...\n",
      "index created!\n",
      "\u001b[32m[04/20 11:22:31 yolact.eval]: \u001b[0mLoading model...\n",
      "\u001b[32m[04/20 11:22:34 yolact.eval]: \u001b[0mModel loaded.\n",
      "\n",
      "Processing Images  ██████████████████████████████     65 /     65 (100.00%)     6.07 fps        \n",
      "Saving data...\n",
      "\u001b[32m[04/20 11:22:54 yolact.eval]: \u001b[0mCalculating mAP...\n",
      "\u001b[32m[04/20 11:22:54 yolact.eval]: \u001b[0m\n",
      "       |  all  |  .50  |  .55  |  .60  |  .65  |  .70  |  .75  |  .80  |  .85  |  .90  |  .95  |\n",
      "-------+-------+-------+-------+-------+-------+-------+-------+-------+-------+-------+-------+\n",
      "   box | 34.50 | 53.66 | 52.38 | 50.91 | 48.92 | 45.19 | 43.58 | 27.82 | 14.53 |  5.86 |  2.19 |\n",
      "  mask | 38.31 | 51.03 | 50.54 | 49.86 | 49.13 | 47.49 | 42.47 | 39.47 | 32.73 | 17.96 |  2.44 |\n",
      "-------+-------+-------+-------+-------+-------+-------+-------+-------+-------+-------+-------+\n",
      "/home/saicharanm22/.local/lib/python3.10/site-packages/torch/cuda/__init__.py:497: UserWarning: Can't initialize NVML\n",
      "  warnings.warn(\"Can't initialize NVML\")\n",
      "loading annotations into memory...\n",
      "Done (t=0.00s)\n",
      "creating index...\n",
      "index created!\n",
      "\u001b[32m[04/20 11:23:05 yolact.eval]: \u001b[0mLoading model...\n",
      "\u001b[32m[04/20 11:23:11 yolact.eval]: \u001b[0mModel loaded.\n",
      "\n",
      "Processing Images  ████████████████████████░░░░░░     54 /     65 (83.08%)     4.16 fps        Warning: Augmentation output an example with no ground truth. Resampling...\n",
      "Processing Images  ██████████████████████████████     65 /     65 (100.00%)     4.58 fps        \n",
      "Saving data...\n",
      "\u001b[32m[04/20 11:23:36 yolact.eval]: \u001b[0mCalculating mAP...\n",
      "\u001b[32m[04/20 11:23:36 yolact.eval]: \u001b[0m\n",
      "       |  all  |  .50  |  .55  |  .60  |  .65  |  .70  |  .75  |  .80  |  .85  |  .90  |  .95  |\n",
      "-------+-------+-------+-------+-------+-------+-------+-------+-------+-------+-------+-------+\n",
      "   box |  0.00 |  0.00 |  0.00 |  0.00 |  0.00 |  0.00 |  0.00 |  0.00 |  0.00 |  0.00 |  0.00 |\n",
      "  mask |  0.00 |  0.00 |  0.00 |  0.00 |  0.00 |  0.00 |  0.00 |  0.00 |  0.00 |  0.00 |  0.00 |\n",
      "-------+-------+-------+-------+-------+-------+-------+-------+-------+-------+-------+-------+\n"
     ]
    }
   ],
   "source": [
    "!python3 eval.py --trained_model=weights/yolact_edge_lvis_lwf_0_10000.pth --score_threshold=0.3 --disable_tensorrt --config=yolact_edge_config_lwf\n",
    "!python3 eval.py --trained_model=weights/yolact_edge_lvis_lwf_0_10000.pth --score_threshold=0.3 --disable_tensorrt --config=yolact_edge_lvis_config_lwf\n",
    "!python3 eval.py --trained_model=weights/yolact_edge_lvis_lwf_0_10000.pth --score_threshold=0.95 --disable_tensorrt --config=yolact_edge_lvis_config"
   ]
  },
  {
   "cell_type": "code",
   "execution_count": 3,
   "metadata": {
    "vscode": {
     "languageId": "shellscript"
    }
   },
   "outputs": [
    {
     "name": "stdout",
     "output_type": "stream",
     "text": [
      "/home/saicharanm22/.local/lib/python3.10/site-packages/torch/cuda/__init__.py:497: UserWarning: Can't initialize NVML\n",
      "  warnings.warn(\"Can't initialize NVML\")\n",
      "loading annotations into memory...\n",
      "Done (t=1.53s)\n",
      "creating index...\n",
      "index created!\n",
      "\u001b[32m[04/20 11:23:48 yolact.eval]: \u001b[0mLoading model...\n",
      "\u001b[32m[04/20 11:23:52 yolact.eval]: \u001b[0mModel loaded.\n",
      "\n",
      "Processing Images  ██████████████████████████████   4952 /   4952 (100.00%)     7.85 fps        \n",
      "Saving data...\n",
      "\u001b[32m[04/20 11:34:40 yolact.eval]: \u001b[0mCalculating mAP...\n",
      "\u001b[32m[04/20 11:34:41 yolact.eval]: \u001b[0m\n",
      "       |  all  |  .50  |  .55  |  .60  |  .65  |  .70  |  .75  |  .80  |  .85  |  .90  |  .95  |\n",
      "-------+-------+-------+-------+-------+-------+-------+-------+-------+-------+-------+-------+\n",
      "   box |  9.91 | 27.43 | 23.56 | 19.11 | 13.89 |  8.83 |  4.29 |  1.56 |  0.39 |  0.06 |  0.01 |\n",
      "  mask | 13.23 | 27.16 | 25.20 | 22.67 | 19.74 | 15.88 | 11.34 |  6.87 |  2.96 |  0.43 |  0.03 |\n",
      "-------+-------+-------+-------+-------+-------+-------+-------+-------+-------+-------+-------+\n",
      "/home/saicharanm22/.local/lib/python3.10/site-packages/torch/cuda/__init__.py:497: UserWarning: Can't initialize NVML\n",
      "  warnings.warn(\"Can't initialize NVML\")\n",
      "loading annotations into memory...\n",
      "Done (t=0.01s)\n",
      "creating index...\n",
      "index created!\n",
      "\u001b[32m[04/20 11:34:53 yolact.eval]: \u001b[0mLoading model...\n",
      "\u001b[32m[04/20 11:34:58 yolact.eval]: \u001b[0mModel loaded.\n",
      "\n",
      "Processing Images  ██████████████████████████████     65 /     65 (100.00%)     5.49 fps        \n",
      "Saving data...\n",
      "\u001b[32m[04/20 11:35:20 yolact.eval]: \u001b[0mCalculating mAP...\n",
      "\u001b[32m[04/20 11:35:21 yolact.eval]: \u001b[0m\n",
      "       |  all  |  .50  |  .55  |  .60  |  .65  |  .70  |  .75  |  .80  |  .85  |  .90  |  .95  |\n",
      "-------+-------+-------+-------+-------+-------+-------+-------+-------+-------+-------+-------+\n",
      "   box | 30.96 | 50.76 | 50.59 | 48.83 | 48.31 | 39.94 | 32.59 | 23.47 | 11.29 |  3.77 |  0.08 |\n",
      "  mask | 36.01 | 50.63 | 47.83 | 44.74 | 44.52 | 42.65 | 39.89 | 38.53 | 29.18 | 17.28 |  4.89 |\n",
      "-------+-------+-------+-------+-------+-------+-------+-------+-------+-------+-------+-------+\n"
     ]
    }
   ],
   "source": [
    "!python3 eval.py --trained_model=weights/yolact_edge_lvis_lwf_1_15000.pth --score_threshold=0.3 --disable_tensorrt --config=yolact_edge_config_lwf\n",
    "!python3 eval.py --trained_model=weights/yolact_edge_lvis_lwf_1_15000.pth --score_threshold=0.3 --disable_tensorrt --config=yolact_edge_lvis_config_lwf"
   ]
  },
  {
   "cell_type": "code",
   "execution_count": 4,
   "metadata": {
    "vscode": {
     "languageId": "shellscript"
    }
   },
   "outputs": [
    {
     "name": "stdout",
     "output_type": "stream",
     "text": [
      "/home/saicharanm22/.local/lib/python3.10/site-packages/torch/cuda/__init__.py:497: UserWarning: Can't initialize NVML\n",
      "  warnings.warn(\"Can't initialize NVML\")\n",
      "loading annotations into memory...\n",
      "Done (t=0.87s)\n",
      "creating index...\n",
      "index created!\n",
      "\u001b[32m[04/20 11:35:31 yolact.eval]: \u001b[0mLoading model...\n",
      "\u001b[32m[04/20 11:35:34 yolact.eval]: \u001b[0mModel loaded.\n",
      "\n",
      "Processing Images  ██████████████████████████████   4952 /   4952 (100.00%)     8.03 fps        \n",
      "Saving data...\n",
      "\u001b[32m[04/20 11:46:07 yolact.eval]: \u001b[0mCalculating mAP...\n",
      "\u001b[32m[04/20 11:46:08 yolact.eval]: \u001b[0m\n",
      "       |  all  |  .50  |  .55  |  .60  |  .65  |  .70  |  .75  |  .80  |  .85  |  .90  |  .95  |\n",
      "-------+-------+-------+-------+-------+-------+-------+-------+-------+-------+-------+-------+\n",
      "   box |  7.80 | 26.28 | 20.87 | 14.85 |  9.22 |  4.43 |  1.64 |  0.49 |  0.15 |  0.04 |  0.00 |\n",
      "  mask | 12.89 | 27.40 | 25.17 | 22.52 | 19.14 | 15.13 | 10.67 |  6.06 |  2.32 |  0.41 |  0.05 |\n",
      "-------+-------+-------+-------+-------+-------+-------+-------+-------+-------+-------+-------+\n",
      "/home/saicharanm22/.local/lib/python3.10/site-packages/torch/cuda/__init__.py:497: UserWarning: Can't initialize NVML\n",
      "  warnings.warn(\"Can't initialize NVML\")\n",
      "loading annotations into memory...\n",
      "Done (t=0.01s)\n",
      "creating index...\n",
      "index created!\n",
      "\u001b[32m[04/20 11:46:20 yolact.eval]: \u001b[0mLoading model...\n",
      "\u001b[32m[04/20 11:46:25 yolact.eval]: \u001b[0mModel loaded.\n",
      "\n",
      "Processing Images  ██████████████████████████████     65 /     65 (100.00%)     4.55 fps        \n",
      "Saving data...\n",
      "\u001b[32m[04/20 11:46:49 yolact.eval]: \u001b[0mCalculating mAP...\n",
      "\u001b[32m[04/20 11:46:49 yolact.eval]: \u001b[0m\n",
      "       |  all  |  .50  |  .55  |  .60  |  .65  |  .70  |  .75  |  .80  |  .85  |  .90  |  .95  |\n",
      "-------+-------+-------+-------+-------+-------+-------+-------+-------+-------+-------+-------+\n",
      "   box | 35.17 | 57.39 | 54.81 | 52.37 | 48.64 | 46.59 | 42.68 | 28.96 | 14.51 |  5.09 |  0.69 |\n",
      "  mask | 40.99 | 57.09 | 56.85 | 55.49 | 53.65 | 47.04 | 41.81 | 40.31 | 33.95 | 17.98 |  5.69 |\n",
      "-------+-------+-------+-------+-------+-------+-------+-------+-------+-------+-------+-------+\n",
      "/home/saicharanm22/.local/lib/python3.10/site-packages/torch/cuda/__init__.py:497: UserWarning: Can't initialize NVML\n",
      "  warnings.warn(\"Can't initialize NVML\")\n",
      "loading annotations into memory...\n",
      "Done (t=0.00s)\n",
      "creating index...\n",
      "index created!\n",
      "\u001b[32m[04/20 11:46:59 yolact.eval]: \u001b[0mLoading model...\n",
      "\u001b[32m[04/20 11:47:03 yolact.eval]: \u001b[0mModel loaded.\n",
      "\n",
      "Processing Images  ████████████████████████░░░░░░     54 /     65 (83.08%)     4.68 fps        Warning: Augmentation output an example with no ground truth. Resampling...\n",
      "Processing Images  ██████████████████████████████     65 /     65 (100.00%)     5.08 fps        \n",
      "Saving data...\n",
      "\u001b[32m[04/20 11:47:27 yolact.eval]: \u001b[0mCalculating mAP...\n",
      "\u001b[32m[04/20 11:47:27 yolact.eval]: \u001b[0m\n",
      "       |  all  |  .50  |  .55  |  .60  |  .65  |  .70  |  .75  |  .80  |  .85  |  .90  |  .95  |\n",
      "-------+-------+-------+-------+-------+-------+-------+-------+-------+-------+-------+-------+\n",
      "   box |  0.00 |  0.00 |  0.00 |  0.00 |  0.00 |  0.00 |  0.00 |  0.00 |  0.00 |  0.00 |  0.00 |\n",
      "  mask |  0.00 |  0.00 |  0.00 |  0.00 |  0.00 |  0.00 |  0.00 |  0.00 |  0.00 |  0.00 |  0.00 |\n",
      "-------+-------+-------+-------+-------+-------+-------+-------+-------+-------+-------+-------+\n"
     ]
    }
   ],
   "source": [
    "!python3 eval.py --trained_model=weights/yolact_edge_lvis_lwf_1_20000.pth --score_threshold=0.3 --disable_tensorrt --config=yolact_edge_config_lwf\n",
    "!python3 eval.py --trained_model=weights/yolact_edge_lvis_lwf_1_20000.pth --score_threshold=0.3 --disable_tensorrt --config=yolact_edge_lvis_config_lwf\n",
    "!python3 eval.py --trained_model=weights/yolact_edge_lvis_lwf_1_20000.pth --score_threshold=0.95 --disable_tensorrt --config=yolact_edge_lvis_config"
   ]
  },
  {
   "cell_type": "code",
   "execution_count": 5,
   "metadata": {
    "vscode": {
     "languageId": "shellscript"
    }
   },
   "outputs": [
    {
     "name": "stdout",
     "output_type": "stream",
     "text": [
      "/home/saicharanm22/.local/lib/python3.10/site-packages/torch/cuda/__init__.py:497: UserWarning: Can't initialize NVML\n",
      "  warnings.warn(\"Can't initialize NVML\")\n",
      "loading annotations into memory...\n",
      "Done (t=1.46s)\n",
      "creating index...\n",
      "index created!\n",
      "\u001b[32m[04/20 11:47:38 yolact.eval]: \u001b[0mLoading model...\n",
      "\u001b[32m[04/20 11:47:43 yolact.eval]: \u001b[0mModel loaded.\n",
      "\n",
      "Processing Images  ██████████████████████████████   4952 /   4952 (100.00%)     7.76 fps        \n",
      "Saving data...\n",
      "\u001b[32m[04/20 11:58:39 yolact.eval]: \u001b[0mCalculating mAP...\n",
      "\u001b[32m[04/20 11:58:40 yolact.eval]: \u001b[0m\n",
      "       |  all  |  .50  |  .55  |  .60  |  .65  |  .70  |  .75  |  .80  |  .85  |  .90  |  .95  |\n",
      "-------+-------+-------+-------+-------+-------+-------+-------+-------+-------+-------+-------+\n",
      "   box |  9.84 | 28.33 | 24.16 | 18.99 | 13.11 |  8.09 |  3.93 |  1.44 |  0.35 |  0.04 |  0.00 |\n",
      "  mask | 14.93 | 29.55 | 27.27 | 25.02 | 21.93 | 18.30 | 13.71 |  8.73 |  3.99 |  0.77 |  0.05 |\n",
      "-------+-------+-------+-------+-------+-------+-------+-------+-------+-------+-------+-------+\n",
      "/home/saicharanm22/.local/lib/python3.10/site-packages/torch/cuda/__init__.py:497: UserWarning: Can't initialize NVML\n",
      "  warnings.warn(\"Can't initialize NVML\")\n",
      "loading annotations into memory...\n",
      "Done (t=0.01s)\n",
      "creating index...\n",
      "index created!\n",
      "\u001b[32m[04/20 11:58:49 yolact.eval]: \u001b[0mLoading model...\n",
      "\u001b[32m[04/20 11:58:52 yolact.eval]: \u001b[0mModel loaded.\n",
      "\n",
      "Processing Images  ██████████████████████████████     65 /     65 (100.00%)     7.50 fps        \n",
      "Saving data...\n",
      "\u001b[32m[04/20 11:59:08 yolact.eval]: \u001b[0mCalculating mAP...\n",
      "\u001b[32m[04/20 11:59:08 yolact.eval]: \u001b[0m\n",
      "       |  all  |  .50  |  .55  |  .60  |  .65  |  .70  |  .75  |  .80  |  .85  |  .90  |  .95  |\n",
      "-------+-------+-------+-------+-------+-------+-------+-------+-------+-------+-------+-------+\n",
      "   box | 43.87 | 64.38 | 63.75 | 62.10 | 61.48 | 55.68 | 53.79 | 44.72 | 29.10 |  3.35 |  0.31 |\n",
      "  mask | 46.90 | 62.61 | 62.11 | 58.77 | 58.22 | 57.07 | 52.56 | 46.01 | 39.73 | 26.52 |  5.41 |\n",
      "-------+-------+-------+-------+-------+-------+-------+-------+-------+-------+-------+-------+\n",
      "/home/saicharanm22/.local/lib/python3.10/site-packages/torch/cuda/__init__.py:497: UserWarning: Can't initialize NVML\n",
      "  warnings.warn(\"Can't initialize NVML\")\n",
      "loading annotations into memory...\n",
      "Done (t=0.00s)\n",
      "creating index...\n",
      "index created!\n",
      "\u001b[32m[04/20 11:59:15 yolact.eval]: \u001b[0mLoading model...\n",
      "\u001b[32m[04/20 11:59:18 yolact.eval]: \u001b[0mModel loaded.\n",
      "\n",
      "Processing Images  ████████████████████████░░░░░░     54 /     65 (83.08%)     6.12 fps        Warning: Augmentation output an example with no ground truth. Resampling...\n",
      "Processing Images  ██████████████████████████████     65 /     65 (100.00%)     6.75 fps        \n",
      "Saving data...\n",
      "\u001b[32m[04/20 11:59:34 yolact.eval]: \u001b[0mCalculating mAP...\n",
      "\u001b[32m[04/20 11:59:34 yolact.eval]: \u001b[0m\n",
      "       |  all  |  .50  |  .55  |  .60  |  .65  |  .70  |  .75  |  .80  |  .85  |  .90  |  .95  |\n",
      "-------+-------+-------+-------+-------+-------+-------+-------+-------+-------+-------+-------+\n",
      "   box |  0.00 |  0.00 |  0.00 |  0.00 |  0.00 |  0.00 |  0.00 |  0.00 |  0.00 |  0.00 |  0.00 |\n",
      "  mask |  0.00 |  0.00 |  0.00 |  0.00 |  0.00 |  0.00 |  0.00 |  0.00 |  0.00 |  0.00 |  0.00 |\n",
      "-------+-------+-------+-------+-------+-------+-------+-------+-------+-------+-------+-------+\n"
     ]
    }
   ],
   "source": [
    "!python3 eval.py --trained_model=weights/yolact_edge_lvis_lwf_1_25000.pth --score_threshold=0.3 --disable_tensorrt --config=yolact_edge_config_lwf\n",
    "!python3 eval.py --trained_model=weights/yolact_edge_lvis_lwf_1_25000.pth --score_threshold=0.3 --disable_tensorrt --config=yolact_edge_lvis_config_lwf\n",
    "!python3 eval.py --trained_model=weights/yolact_edge_lvis_lwf_1_25000.pth --score_threshold=0.95 --disable_tensorrt --config=yolact_edge_lvis_config"
   ]
  },
  {
   "cell_type": "code",
   "execution_count": 6,
   "metadata": {
    "vscode": {
     "languageId": "shellscript"
    }
   },
   "outputs": [
    {
     "name": "stdout",
     "output_type": "stream",
     "text": [
      "/home/saicharanm22/.local/lib/python3.10/site-packages/torch/cuda/__init__.py:497: UserWarning: Can't initialize NVML\n",
      "  warnings.warn(\"Can't initialize NVML\")\n",
      "loading annotations into memory...\n",
      "Done (t=0.79s)\n",
      "creating index...\n",
      "index created!\n",
      "\u001b[32m[04/20 11:59:42 yolact.eval]: \u001b[0mLoading model...\n",
      "\u001b[32m[04/20 11:59:45 yolact.eval]: \u001b[0mModel loaded.\n",
      "\n",
      "Processing Images  ██████████████████████████████   4952 /   4952 (100.00%)     8.18 fps        \n",
      "Saving data...\n",
      "\u001b[32m[04/20 12:10:05 yolact.eval]: \u001b[0mCalculating mAP...\n",
      "\u001b[32m[04/20 12:10:06 yolact.eval]: \u001b[0m\n",
      "       |  all  |  .50  |  .55  |  .60  |  .65  |  .70  |  .75  |  .80  |  .85  |  .90  |  .95  |\n",
      "-------+-------+-------+-------+-------+-------+-------+-------+-------+-------+-------+-------+\n",
      "   box |  9.81 | 28.55 | 24.14 | 18.69 | 13.34 |  7.72 |  3.79 |  1.47 |  0.37 |  0.04 |  0.00 |\n",
      "  mask | 14.32 | 29.09 | 26.89 | 24.23 | 21.12 | 17.47 | 12.72 |  7.59 |  3.39 |  0.72 |  0.03 |\n",
      "-------+-------+-------+-------+-------+-------+-------+-------+-------+-------+-------+-------+\n",
      "/home/saicharanm22/.local/lib/python3.10/site-packages/torch/cuda/__init__.py:497: UserWarning: Can't initialize NVML\n",
      "  warnings.warn(\"Can't initialize NVML\")\n",
      "loading annotations into memory...\n",
      "Done (t=0.00s)\n",
      "creating index...\n",
      "index created!\n",
      "\u001b[32m[04/20 12:10:15 yolact.eval]: \u001b[0mLoading model...\n",
      "\u001b[32m[04/20 12:10:18 yolact.eval]: \u001b[0mModel loaded.\n",
      "\n",
      "Processing Images  ██████████████████████████████     65 /     65 (100.00%)     5.18 fps        \n",
      "Saving data...\n",
      "\u001b[32m[04/20 12:10:40 yolact.eval]: \u001b[0mCalculating mAP...\n",
      "\u001b[32m[04/20 12:10:40 yolact.eval]: \u001b[0m\n",
      "       |  all  |  .50  |  .55  |  .60  |  .65  |  .70  |  .75  |  .80  |  .85  |  .90  |  .95  |\n",
      "-------+-------+-------+-------+-------+-------+-------+-------+-------+-------+-------+-------+\n",
      "   box | 35.93 | 51.83 | 51.08 | 49.29 | 48.52 | 47.42 | 45.55 | 36.66 | 22.52 |  6.34 |  0.09 |\n",
      "  mask | 38.10 | 51.04 | 50.27 | 50.03 | 48.25 | 43.98 | 37.40 | 34.11 | 31.70 | 27.21 |  7.01 |\n",
      "-------+-------+-------+-------+-------+-------+-------+-------+-------+-------+-------+-------+\n",
      "/home/saicharanm22/.local/lib/python3.10/site-packages/torch/cuda/__init__.py:497: UserWarning: Can't initialize NVML\n",
      "  warnings.warn(\"Can't initialize NVML\")\n",
      "loading annotations into memory...\n",
      "Done (t=0.00s)\n",
      "creating index...\n",
      "index created!\n",
      "\u001b[32m[04/20 12:10:49 yolact.eval]: \u001b[0mLoading model...\n",
      "\u001b[32m[04/20 12:10:52 yolact.eval]: \u001b[0mModel loaded.\n",
      "\n",
      "Processing Images  ████████████████████████░░░░░░     54 /     65 (83.08%)     4.85 fps        Warning: Augmentation output an example with no ground truth. Resampling...\n",
      "Processing Images  ██████████████████████████████     65 /     65 (100.00%)     5.33 fps        \n",
      "Saving data...\n",
      "\u001b[32m[04/20 12:11:11 yolact.eval]: \u001b[0mCalculating mAP...\n",
      "\u001b[32m[04/20 12:11:11 yolact.eval]: \u001b[0m\n",
      "       |  all  |  .50  |  .55  |  .60  |  .65  |  .70  |  .75  |  .80  |  .85  |  .90  |  .95  |\n",
      "-------+-------+-------+-------+-------+-------+-------+-------+-------+-------+-------+-------+\n",
      "   box |  0.00 |  0.00 |  0.00 |  0.00 |  0.00 |  0.00 |  0.00 |  0.00 |  0.00 |  0.00 |  0.00 |\n",
      "  mask |  0.00 |  0.00 |  0.00 |  0.00 |  0.00 |  0.00 |  0.00 |  0.00 |  0.00 |  0.00 |  0.00 |\n",
      "-------+-------+-------+-------+-------+-------+-------+-------+-------+-------+-------+-------+\n"
     ]
    }
   ],
   "source": [
    "!python3 eval.py --trained_model=weights/yolact_edge_lvis_lwf_2_30000.pth --score_threshold=0.3 --disable_tensorrt --config=yolact_edge_config_lwf\n",
    "!python3 eval.py --trained_model=weights/yolact_edge_lvis_lwf_2_30000.pth --score_threshold=0.3 --disable_tensorrt --config=yolact_edge_lvis_config_lwf\n",
    "!python3 eval.py --trained_model=weights/yolact_edge_lvis_lwf_2_30000.pth --score_threshold=0.95 --disable_tensorrt --config=yolact_edge_lvis_config"
   ]
  },
  {
   "attachments": {},
   "cell_type": "markdown",
   "metadata": {},
   "source": [
    "***********************************************************************************************************************************"
   ]
  },
  {
   "attachments": {},
   "cell_type": "markdown",
   "metadata": {},
   "source": [
    "## Best in terms of accuracy"
   ]
  },
  {
   "cell_type": "code",
   "execution_count": 1,
   "metadata": {
    "vscode": {
     "languageId": "shellscript"
    }
   },
   "outputs": [
    {
     "name": "stdout",
     "output_type": "stream",
     "text": [
      "/home/saicharanm22/.local/lib/python3.10/site-packages/torch/cuda/__init__.py:497: UserWarning: Can't initialize NVML\n",
      "  warnings.warn(\"Can't initialize NVML\")\n",
      "loading annotations into memory...\n",
      "Done (t=0.79s)\n",
      "creating index...\n",
      "index created!\n",
      "\u001b[32m[04/20 17:26:58 yolact.eval]: \u001b[0mLoading model...\n",
      "\u001b[32m[04/20 17:27:01 yolact.eval]: \u001b[0mModel loaded.\n",
      "\n",
      "Processing Images  ██████████████████████████████   4952 /   4952 (100.00%)     9.02 fps        \n",
      "Saving data...\n",
      "\u001b[32m[04/20 17:36:24 yolact.eval]: \u001b[0mCalculating mAP...\n",
      "\u001b[32m[04/20 17:36:25 yolact.eval]: \u001b[0m\n",
      "       |  all  |  .50  |  .55  |  .60  |  .65  |  .70  |  .75  |  .80  |  .85  |  .90  |  .95  |\n",
      "-------+-------+-------+-------+-------+-------+-------+-------+-------+-------+-------+-------+\n",
      "   box |  9.06 | 27.16 | 23.11 | 17.56 | 11.54 |  6.69 |  3.23 |  1.02 |  0.24 |  0.02 |  0.00 |\n",
      "  mask | 13.34 | 27.88 | 25.86 | 23.19 | 19.83 | 15.93 | 11.15 |  6.53 |  2.53 |  0.44 |  0.03 |\n",
      "-------+-------+-------+-------+-------+-------+-------+-------+-------+-------+-------+-------+\n",
      "/home/saicharanm22/.local/lib/python3.10/site-packages/torch/cuda/__init__.py:497: UserWarning: Can't initialize NVML\n",
      "  warnings.warn(\"Can't initialize NVML\")\n",
      "loading annotations into memory...\n",
      "Done (t=0.00s)\n",
      "creating index...\n",
      "index created!\n",
      "\u001b[32m[04/20 17:36:32 yolact.eval]: \u001b[0mLoading model...\n",
      "\u001b[32m[04/20 17:36:36 yolact.eval]: \u001b[0mModel loaded.\n",
      "\n",
      "Processing Images  ██████████████████████████████     65 /     65 (100.00%)     5.76 fps        \n",
      "Saving data...\n",
      "\u001b[32m[04/20 17:36:57 yolact.eval]: \u001b[0mCalculating mAP...\n",
      "\u001b[32m[04/20 17:36:57 yolact.eval]: \u001b[0m\n",
      "       |  all  |  .50  |  .55  |  .60  |  .65  |  .70  |  .75  |  .80  |  .85  |  .90  |  .95  |\n",
      "-------+-------+-------+-------+-------+-------+-------+-------+-------+-------+-------+-------+\n",
      "   box | 37.55 | 58.95 | 55.75 | 55.18 | 53.93 | 50.13 | 40.09 | 34.52 | 21.10 |  5.63 |  0.25 |\n",
      "  mask | 42.05 | 55.54 | 54.47 | 53.10 | 51.92 | 48.52 | 47.83 | 41.91 | 37.37 | 22.63 |  7.22 |\n",
      "-------+-------+-------+-------+-------+-------+-------+-------+-------+-------+-------+-------+\n",
      "/home/saicharanm22/.local/lib/python3.10/site-packages/torch/cuda/__init__.py:497: UserWarning: Can't initialize NVML\n",
      "  warnings.warn(\"Can't initialize NVML\")\n",
      "loading annotations into memory...\n",
      "Done (t=0.00s)\n",
      "creating index...\n",
      "index created!\n",
      "\u001b[32m[04/20 17:37:05 yolact.eval]: \u001b[0mLoading model...\n",
      "\u001b[32m[04/20 17:37:10 yolact.eval]: \u001b[0mModel loaded.\n",
      "\n",
      "Processing Images  ████████████████████████░░░░░░     54 /     65 (83.08%)     4.53 fps        Warning: Augmentation output an example with no ground truth. Resampling...\n",
      "Processing Images  ██████████████████████████████     65 /     65 (100.00%)     4.82 fps        \n",
      "Saving data...\n",
      "\u001b[32m[04/20 17:37:32 yolact.eval]: \u001b[0mCalculating mAP...\n",
      "\u001b[32m[04/20 17:37:32 yolact.eval]: \u001b[0m\n",
      "       |  all  |  .50  |  .55  |  .60  |  .65  |  .70  |  .75  |  .80  |  .85  |  .90  |  .95  |\n",
      "-------+-------+-------+-------+-------+-------+-------+-------+-------+-------+-------+-------+\n",
      "   box |  0.00 |  0.00 |  0.00 |  0.00 |  0.00 |  0.00 |  0.00 |  0.00 |  0.00 |  0.00 |  0.00 |\n",
      "  mask |  0.00 |  0.00 |  0.00 |  0.00 |  0.00 |  0.00 |  0.00 |  0.00 |  0.00 |  0.00 |  0.00 |\n",
      "-------+-------+-------+-------+-------+-------+-------+-------+-------+-------+-------+-------+\n"
     ]
    }
   ],
   "source": [
    "!python3 eval.py --trained_model=weights/yolact_edge_lvis_lwf_2_35000.pth --score_threshold=0.3 --disable_tensorrt --config=yolact_edge_config_lwf\n",
    "!python3 eval.py --trained_model=weights/yolact_edge_lvis_lwf_2_35000.pth --score_threshold=0.3 --disable_tensorrt --config=yolact_edge_lvis_config_lwf\n",
    "!python3 eval.py --trained_model=weights/yolact_edge_lvis_lwf_2_35000.pth --score_threshold=0.95 --disable_tensorrt --config=yolact_edge_lvis_config"
   ]
  },
  {
   "attachments": {},
   "cell_type": "markdown",
   "metadata": {},
   "source": [
    "***************"
   ]
  },
  {
   "cell_type": "code",
   "execution_count": 1,
   "metadata": {
    "vscode": {
     "languageId": "shellscript"
    }
   },
   "outputs": [
    {
     "name": "stdout",
     "output_type": "stream",
     "text": [
      "/home/saicharanm22/.local/lib/python3.10/site-packages/torch/cuda/__init__.py:497: UserWarning: Can't initialize NVML\n",
      "  warnings.warn(\"Can't initialize NVML\")\n",
      "loading annotations into memory...\n",
      "Done (t=1.48s)\n",
      "creating index...\n",
      "index created!\n",
      "\u001b[32m[04/20 12:29:34 yolact.eval]: \u001b[0mLoading model...\n",
      "\u001b[32m[04/20 12:29:39 yolact.eval]: \u001b[0mModel loaded.\n",
      "\n",
      "Processing Images  ██████████████████████████████   4952 /   4952 (100.00%)     8.20 fps        \n",
      "Saving data...\n",
      "\u001b[32m[04/20 12:39:59 yolact.eval]: \u001b[0mCalculating mAP...\n",
      "\u001b[32m[04/20 12:39:59 yolact.eval]: \u001b[0m\n",
      "       |  all  |  .50  |  .55  |  .60  |  .65  |  .70  |  .75  |  .80  |  .85  |  .90  |  .95  |\n",
      "-------+-------+-------+-------+-------+-------+-------+-------+-------+-------+-------+-------+\n",
      "   box | 10.78 | 29.45 | 25.79 | 20.57 | 14.64 |  9.46 |  4.98 |  2.18 |  0.61 |  0.11 |  0.00 |\n",
      "  mask | 14.55 | 29.09 | 27.13 | 24.53 | 21.27 | 17.53 | 13.00 |  8.10 |  4.03 |  0.83 |  0.02 |\n",
      "-------+-------+-------+-------+-------+-------+-------+-------+-------+-------+-------+-------+\n",
      "/home/saicharanm22/.local/lib/python3.10/site-packages/torch/cuda/__init__.py:497: UserWarning: Can't initialize NVML\n",
      "  warnings.warn(\"Can't initialize NVML\")\n",
      "loading annotations into memory...\n",
      "Done (t=0.00s)\n",
      "creating index...\n",
      "index created!\n",
      "\u001b[32m[04/20 12:40:07 yolact.eval]: \u001b[0mLoading model...\n",
      "\u001b[32m[04/20 12:40:10 yolact.eval]: \u001b[0mModel loaded.\n",
      "\n",
      "Processing Images  ██████████████████████████████     65 /     65 (100.00%)     6.68 fps        \n",
      "Saving data...\n",
      "\u001b[32m[04/20 12:40:28 yolact.eval]: \u001b[0mCalculating mAP...\n",
      "\u001b[32m[04/20 12:40:29 yolact.eval]: \u001b[0m\n",
      "       |  all  |  .50  |  .55  |  .60  |  .65  |  .70  |  .75  |  .80  |  .85  |  .90  |  .95  |\n",
      "-------+-------+-------+-------+-------+-------+-------+-------+-------+-------+-------+-------+\n",
      "   box | 40.90 | 61.68 | 61.22 | 59.76 | 55.71 | 53.54 | 49.44 | 36.88 | 22.99 |  7.79 |  0.01 |\n",
      "  mask | 44.21 | 60.36 | 58.84 | 57.98 | 55.79 | 54.23 | 51.64 | 41.82 | 34.38 | 18.47 |  8.62 |\n",
      "-------+-------+-------+-------+-------+-------+-------+-------+-------+-------+-------+-------+\n",
      "/home/saicharanm22/.local/lib/python3.10/site-packages/torch/cuda/__init__.py:497: UserWarning: Can't initialize NVML\n",
      "  warnings.warn(\"Can't initialize NVML\")\n",
      "loading annotations into memory...\n",
      "Done (t=0.00s)\n",
      "creating index...\n",
      "index created!\n",
      "\u001b[32m[04/20 12:40:36 yolact.eval]: \u001b[0mLoading model...\n",
      "\u001b[32m[04/20 12:40:39 yolact.eval]: \u001b[0mModel loaded.\n",
      "\n",
      "Processing Images  ████████████████████████░░░░░░     54 /     65 (83.08%)     6.27 fps        Warning: Augmentation output an example with no ground truth. Resampling...\n",
      "Processing Images  ██████████████████████████████     65 /     65 (100.00%)     6.45 fps        \n",
      "Saving data...\n",
      "\u001b[32m[04/20 12:40:57 yolact.eval]: \u001b[0mCalculating mAP...\n",
      "\u001b[32m[04/20 12:40:57 yolact.eval]: \u001b[0m\n",
      "       |  all  |  .50  |  .55  |  .60  |  .65  |  .70  |  .75  |  .80  |  .85  |  .90  |  .95  |\n",
      "-------+-------+-------+-------+-------+-------+-------+-------+-------+-------+-------+-------+\n",
      "   box |  0.00 |  0.00 |  0.00 |  0.00 |  0.00 |  0.00 |  0.00 |  0.00 |  0.00 |  0.00 |  0.00 |\n",
      "  mask |  0.00 |  0.00 |  0.00 |  0.00 |  0.00 |  0.00 |  0.00 |  0.00 |  0.00 |  0.00 |  0.00 |\n",
      "-------+-------+-------+-------+-------+-------+-------+-------+-------+-------+-------+-------+\n"
     ]
    }
   ],
   "source": [
    "!python3 eval.py --trained_model=weights/yolact_edge_lvis_lwf_2_40000.pth --score_threshold=0.3 --disable_tensorrt --config=yolact_edge_config_lwf\n",
    "!python3 eval.py --trained_model=weights/yolact_edge_lvis_lwf_2_40000.pth --score_threshold=0.3 --disable_tensorrt --config=yolact_edge_lvis_config_lwf\n",
    "!python3 eval.py --trained_model=weights/yolact_edge_lvis_lwf_2_40000.pth --score_threshold=0.3 --disable_tensorrt --config=yolact_edge_lvis_config"
   ]
  },
  {
   "cell_type": "code",
   "execution_count": null,
   "metadata": {
    "vscode": {
     "languageId": "shellscript"
    }
   },
   "outputs": [
    {
     "name": "stdout",
     "output_type": "stream",
     "text": [
      "/home/saicharanm22/.local/lib/python3.10/site-packages/torch/cuda/__init__.py:497: UserWarning: Can't initialize NVML\n",
      "  warnings.warn(\"Can't initialize NVML\")\n",
      "loading annotations into memory...\n",
      "Done (t=1.51s)\n",
      "creating index...\n",
      "index created!\n",
      "\u001b[32m[04/20 13:47:30 yolact.eval]: \u001b[0mLoading model...\n",
      "\u001b[32m[04/20 13:47:35 yolact.eval]: \u001b[0mModel loaded.\n",
      "\n",
      "Processing Images  ██░░░░░░░░░░░░░░░░░░░░░░░░░░░░    366 /   4952 ( 7.39%)     5.97 fps        "
     ]
    }
   ],
   "source": [
    "!python3 eval.py --trained_model=weights/yolact_edge_lvis_lwf_2_38000.pth --disable_tensorrt --config=yolact_edge_config_lwf\n",
    "!python3 eval.py --trained_model=weights/yolact_edge_lvis_lwf_2_38000.pth --score_threshold=0.3 --disable_tensorrt --config=yolact_edge_lvis_config_lwf"
   ]
  },
  {
   "cell_type": "code",
   "execution_count": 5,
   "metadata": {
    "vscode": {
     "languageId": "shellscript"
    }
   },
   "outputs": [
    {
     "name": "stdout",
     "output_type": "stream",
     "text": [
      "/home/saicharanm22/.local/lib/python3.10/site-packages/torch/cuda/__init__.py:497: UserWarning: Can't initialize NVML\n",
      "  warnings.warn(\"Can't initialize NVML\")\n",
      "loading annotations into memory...\n",
      "Done (t=1.51s)\n",
      "creating index...\n",
      "index created!\n",
      "\u001b[32m[04/20 13:18:16 yolact.eval]: \u001b[0mLoading model...\n",
      "\u001b[32m[04/20 13:18:21 yolact.eval]: \u001b[0mModel loaded.\n",
      "\n",
      "Processing Images  ██████████████████████████████   4952 /   4952 (100.00%)     6.49 fps        \n",
      "Saving data...\n",
      "\u001b[32m[04/20 13:31:47 yolact.eval]: \u001b[0mCalculating mAP...\n",
      "\u001b[32m[04/20 13:32:11 yolact.eval]: \u001b[0m\n",
      "       |  all  |  .50  |  .55  |  .60  |  .65  |  .70  |  .75  |  .80  |  .85  |  .90  |  .95  |\n",
      "-------+-------+-------+-------+-------+-------+-------+-------+-------+-------+-------+-------+\n",
      "   box | 11.03 | 33.61 | 28.04 | 21.30 | 13.96 |  8.02 |  3.66 |  1.31 |  0.32 |  0.05 |  0.00 |\n",
      "  mask | 15.25 | 32.74 | 29.65 | 26.25 | 22.22 | 17.77 | 12.71 |  7.29 |  3.17 |  0.70 |  0.04 |\n",
      "-------+-------+-------+-------+-------+-------+-------+-------+-------+-------+-------+-------+\n",
      "/home/saicharanm22/.local/lib/python3.10/site-packages/torch/cuda/__init__.py:497: UserWarning: Can't initialize NVML\n",
      "  warnings.warn(\"Can't initialize NVML\")\n",
      "loading annotations into memory...\n",
      "Done (t=0.01s)\n",
      "creating index...\n",
      "index created!\n",
      "\u001b[32m[04/20 13:32:27 yolact.eval]: \u001b[0mLoading model...\n",
      "\u001b[32m[04/20 13:32:33 yolact.eval]: \u001b[0mModel loaded.\n",
      "\n",
      "Processing Images  ██████████████████████████████     65 /     65 (100.00%)     4.83 fps        \n",
      "Saving data...\n",
      "\u001b[32m[04/20 13:32:58 yolact.eval]: \u001b[0mCalculating mAP...\n",
      "\u001b[32m[04/20 13:32:58 yolact.eval]: \u001b[0m\n",
      "       |  all  |  .50  |  .55  |  .60  |  .65  |  .70  |  .75  |  .80  |  .85  |  .90  |  .95  |\n",
      "-------+-------+-------+-------+-------+-------+-------+-------+-------+-------+-------+-------+\n",
      "   box | 39.65 | 59.14 | 58.67 | 56.16 | 54.50 | 50.67 | 44.96 | 38.26 | 22.54 | 11.07 |  0.57 |\n",
      "  mask | 42.77 | 57.29 | 54.55 | 53.86 | 52.40 | 49.31 | 48.38 | 43.04 | 36.84 | 24.24 |  7.76 |\n",
      "-------+-------+-------+-------+-------+-------+-------+-------+-------+-------+-------+-------+\n"
     ]
    }
   ],
   "source": [
    "!python3 eval.py --trained_model=weights/yolact_edge_lvis_lwf_2_39000.pth --disable_tensorrt --config=yolact_edge_config_lwf\n",
    "!python3 eval.py --trained_model=weights/yolact_edge_lvis_lwf_2_39000.pth --score_threshold=0.3 --disable_tensorrt --config=yolact_edge_lvis_config_lwf"
   ]
  },
  {
   "cell_type": "code",
   "execution_count": 2,
   "metadata": {
    "vscode": {
     "languageId": "shellscript"
    }
   },
   "outputs": [
    {
     "name": "stdout",
     "output_type": "stream",
     "text": [
      "/home/saicharanm22/.local/lib/python3.10/site-packages/torch/cuda/__init__.py:497: UserWarning: Can't initialize NVML\n",
      "  warnings.warn(\"Can't initialize NVML\")\n",
      "loading annotations into memory...\n",
      "Done (t=1.37s)\n",
      "creating index...\n",
      "index created!\n",
      "\u001b[32m[04/22 20:29:14 yolact.eval]: \u001b[0mLoading model...\n",
      "\u001b[32m[04/22 20:29:18 yolact.eval]: \u001b[0mModel loaded.\n",
      "\n",
      "Processing Images  ██████████████████████████████   4952 /   4952 (100.00%)     8.00 fps        \n",
      "Saving data...\n",
      "\u001b[32m[04/22 20:39:54 yolact.eval]: \u001b[0mCalculating mAP...\n",
      "\u001b[32m[04/22 20:39:55 yolact.eval]: \u001b[0m\n",
      "       |  all  |  .50  |  .55  |  .60  |  .65  |  .70  |  .75  |  .80  |  .85  |  .90  |  .95  |\n",
      "-------+-------+-------+-------+-------+-------+-------+-------+-------+-------+-------+-------+\n",
      "   box | 10.77 | 29.45 | 25.79 | 20.58 | 14.56 |  9.47 |  4.98 |  2.18 |  0.62 |  0.11 |  0.00 |\n",
      "  mask | 14.54 | 29.08 | 27.06 | 24.53 | 21.27 | 17.52 | 13.00 |  8.10 |  4.03 |  0.83 |  0.02 |\n",
      "-------+-------+-------+-------+-------+-------+-------+-------+-------+-------+-------+-------+\n",
      "/home/saicharanm22/.local/lib/python3.10/site-packages/torch/cuda/__init__.py:497: UserWarning: Can't initialize NVML\n",
      "  warnings.warn(\"Can't initialize NVML\")\n",
      "loading annotations into memory...\n",
      "Done (t=0.01s)\n",
      "creating index...\n",
      "index created!\n",
      "\u001b[32m[04/22 20:40:06 yolact.eval]: \u001b[0mLoading model...\n",
      "\u001b[32m[04/22 20:40:11 yolact.eval]: \u001b[0mModel loaded.\n",
      "\n",
      "Processing Images  ██████████████████████████████     65 /     65 (100.00%)     5.90 fps        \n",
      "Saving data...\n",
      "\u001b[32m[04/22 20:40:30 yolact.eval]: \u001b[0mCalculating mAP...\n",
      "\u001b[32m[04/22 20:40:30 yolact.eval]: \u001b[0m\n",
      "       |  all  |  .50  |  .55  |  .60  |  .65  |  .70  |  .75  |  .80  |  .85  |  .90  |  .95  |\n",
      "-------+-------+-------+-------+-------+-------+-------+-------+-------+-------+-------+-------+\n",
      "   box | 40.90 | 61.68 | 61.22 | 59.76 | 55.71 | 53.54 | 49.44 | 36.88 | 22.99 |  7.79 |  0.01 |\n",
      "  mask | 44.21 | 60.36 | 58.84 | 57.98 | 55.79 | 54.23 | 51.64 | 41.82 | 34.38 | 18.47 |  8.62 |\n",
      "-------+-------+-------+-------+-------+-------+-------+-------+-------+-------+-------+-------+\n"
     ]
    }
   ],
   "source": [
    "!python3 eval.py --trained_model=weights/yolact_edge_lvis_lwf_2_40000.pth --score_threshold=0.3 --disable_tensorrt --config=yolact_edge_config_lwf\n",
    "!python3 eval.py --trained_model=weights/yolact_edge_lvis_lwf_2_40000.pth --score_threshold=0.3 --disable_tensorrt --config=yolact_edge_lvis_config_lwf"
   ]
  },
  {
   "cell_type": "code",
   "execution_count": 4,
   "metadata": {
    "vscode": {
     "languageId": "shellscript"
    }
   },
   "outputs": [
    {
     "name": "stdout",
     "output_type": "stream",
     "text": [
      "/home/saicharanm22/.local/lib/python3.10/site-packages/torch/cuda/__init__.py:497: UserWarning: Can't initialize NVML\n",
      "  warnings.warn(\"Can't initialize NVML\")\n",
      "Config not specified. Parsed yolact_edge_config from the file name.\n",
      "\n",
      "loading annotations into memory...\n",
      "Done (t=1.37s)\n",
      "creating index...\n",
      "index created!\n",
      "\u001b[32m[04/22 20:51:12 yolact.eval]: \u001b[0mLoading model...\n",
      "\u001b[32m[04/22 20:51:17 yolact.eval]: \u001b[0mModel loaded.\n",
      "\n",
      "Processing Images  ██████████████████████████████   4952 /   4952 (100.00%)     8.03 fps        \n",
      "Saving data...\n",
      "\u001b[32m[04/22 21:01:49 yolact.eval]: \u001b[0mCalculating mAP...\n",
      "\u001b[32m[04/22 21:01:50 yolact.eval]: \u001b[0m\n",
      "       |  all  |  .50  |  .55  |  .60  |  .65  |  .70  |  .75  |  .80  |  .85  |  .90  |  .95  |\n",
      "-------+-------+-------+-------+-------+-------+-------+-------+-------+-------+-------+-------+\n",
      "   box | 28.57 | 44.13 | 42.80 | 40.99 | 38.58 | 35.75 | 31.57 | 25.79 | 17.50 |  7.76 |  0.85 |\n",
      "  mask | 26.72 | 41.46 | 39.88 | 37.99 | 35.44 | 32.31 | 28.73 | 23.65 | 17.20 |  8.93 |  1.61 |\n",
      "-------+-------+-------+-------+-------+-------+-------+-------+-------+-------+-------+-------+\n"
     ]
    }
   ],
   "source": [
    "!python3 eval.py --trained_model=weights/yolact_edge_54_800000.pth --score_threshold=0.3 --disable_tensorrt"
   ]
  },
  {
   "cell_type": "code",
   "execution_count": 4,
   "metadata": {
    "vscode": {
     "languageId": "shellscript"
    }
   },
   "outputs": [
    {
     "name": "stdout",
     "output_type": "stream",
     "text": [
      "/home/saicharanm22/.local/lib/python3.10/site-packages/torch/cuda/__init__.py:497: UserWarning: Can't initialize NVML\n",
      "  warnings.warn(\"Can't initialize NVML\")\n",
      "loading annotations into memory...\n",
      "Done (t=1.43s)\n",
      "creating index...\n",
      "index created!\n",
      "\u001b[32m[04/20 13:03:14 yolact.eval]: \u001b[0mLoading model...\n",
      "\u001b[32m[04/20 13:03:19 yolact.eval]: \u001b[0mModel loaded.\n",
      "\n",
      "Processing Images  ██████████████████████████████   4952 /   4952 (100.00%)     6.39 fps        \n",
      "Saving data...\n",
      "\u001b[32m[04/20 13:16:53 yolact.eval]: \u001b[0mCalculating mAP...\n",
      "\u001b[32m[04/20 13:17:17 yolact.eval]: \u001b[0m\n",
      "       |  all  |  .50  |  .55  |  .60  |  .65  |  .70  |  .75  |  .80  |  .85  |  .90  |  .95  |\n",
      "-------+-------+-------+-------+-------+-------+-------+-------+-------+-------+-------+-------+\n",
      "   box | 11.89 | 33.67 | 28.86 | 22.60 | 15.68 |  9.96 |  5.16 |  2.21 |  0.62 |  0.11 |  0.00 |\n",
      "  mask | 15.73 | 32.66 | 30.04 | 26.73 | 22.94 | 18.44 | 13.43 |  8.24 |  4.02 |  0.82 |  0.02 |\n",
      "-------+-------+-------+-------+-------+-------+-------+-------+-------+-------+-------+-------+\n",
      "/home/saicharanm22/.local/lib/python3.10/site-packages/torch/cuda/__init__.py:497: UserWarning: Can't initialize NVML\n",
      "  warnings.warn(\"Can't initialize NVML\")\n",
      "loading annotations into memory...\n",
      "Done (t=0.01s)\n",
      "creating index...\n",
      "index created!\n",
      "\u001b[32m[04/20 13:17:31 yolact.eval]: \u001b[0mLoading model...\n",
      "\u001b[32m[04/20 13:17:35 yolact.eval]: \u001b[0mModel loaded.\n",
      "\n",
      "Processing Images  ██████████████████████████████     65 /     65 (100.00%)     4.47 fps        \n",
      "Saving data...\n",
      "\u001b[32m[04/20 13:18:00 yolact.eval]: \u001b[0mCalculating mAP...\n",
      "\u001b[32m[04/20 13:18:01 yolact.eval]: \u001b[0m\n",
      "       |  all  |  .50  |  .55  |  .60  |  .65  |  .70  |  .75  |  .80  |  .85  |  .90  |  .95  |\n",
      "-------+-------+-------+-------+-------+-------+-------+-------+-------+-------+-------+-------+\n",
      "   box | 40.90 | 61.68 | 61.22 | 59.76 | 55.71 | 53.54 | 49.44 | 36.88 | 22.99 |  7.79 |  0.01 |\n",
      "  mask | 44.21 | 60.36 | 58.84 | 57.98 | 55.79 | 54.23 | 51.64 | 41.82 | 34.38 | 18.47 |  8.62 |\n",
      "-------+-------+-------+-------+-------+-------+-------+-------+-------+-------+-------+-------+\n"
     ]
    }
   ],
   "source": [
    "!python3 eval.py --trained_model=weights/yolact_edge_lvis_lwf_2_41000.pth --disable_tensorrt --config=yolact_edge_config_lwf\n",
    "!python3 eval.py --trained_model=weights/yolact_edge_lvis_lwf_2_41000.pth --score_threshold=0.3 --disable_tensorrt --config=yolact_edge_lvis_config_lwf"
   ]
  },
  {
   "cell_type": "code",
   "execution_count": 1,
   "metadata": {
    "vscode": {
     "languageId": "shellscript"
    }
   },
   "outputs": [
    {
     "name": "stdout",
     "output_type": "stream",
     "text": [
      "/home/saicharanm22/.local/lib/python3.10/site-packages/torch/cuda/__init__.py:497: UserWarning: Can't initialize NVML\n",
      "  warnings.warn(\"Can't initialize NVML\")\n",
      "loading annotations into memory...\n",
      "Done (t=1.31s)\n",
      "creating index...\n",
      "index created!\n",
      "\u001b[32m[04/22 20:16:05 yolact.eval]: \u001b[0mLoading model...\n",
      "\u001b[32m[04/22 20:16:09 yolact.eval]: \u001b[0mModel loaded.\n",
      "\n",
      "Processing Images  ██████████████████████████████   4952 /   4952 (100.00%)     7.28 fps        \n",
      "Saving data...\n",
      "\u001b[32m[04/22 20:27:57 yolact.eval]: \u001b[0mCalculating mAP...\n",
      "\u001b[32m[04/22 20:28:15 yolact.eval]: \u001b[0m\n",
      "       |  all  |  .50  |  .55  |  .60  |  .65  |  .70  |  .75  |  .80  |  .85  |  .90  |  .95  |\n",
      "-------+-------+-------+-------+-------+-------+-------+-------+-------+-------+-------+-------+\n",
      "   box | 11.35 | 33.16 | 27.74 | 21.14 | 14.92 |  9.20 |  4.65 |  1.95 |  0.56 |  0.16 |  0.01 |\n",
      "  mask | 15.51 | 32.76 | 29.73 | 26.30 | 22.64 | 18.22 | 13.30 |  7.86 |  3.46 |  0.78 |  0.09 |\n",
      "-------+-------+-------+-------+-------+-------+-------+-------+-------+-------+-------+-------+\n",
      "/home/saicharanm22/.local/lib/python3.10/site-packages/torch/cuda/__init__.py:497: UserWarning: Can't initialize NVML\n",
      "  warnings.warn(\"Can't initialize NVML\")\n",
      "loading annotations into memory...\n",
      "Done (t=0.01s)\n",
      "creating index...\n",
      "index created!\n",
      "\u001b[32m[04/22 20:28:26 yolact.eval]: \u001b[0mLoading model...\n",
      "\u001b[32m[04/22 20:28:30 yolact.eval]: \u001b[0mModel loaded.\n",
      "\n",
      "Processing Images  ██████████████████████████████     65 /     65 (100.00%)     4.98 fps        \n",
      "Saving data...\n",
      "\u001b[32m[04/22 20:28:52 yolact.eval]: \u001b[0mCalculating mAP...\n",
      "\u001b[32m[04/22 20:28:52 yolact.eval]: \u001b[0m\n",
      "       |  all  |  .50  |  .55  |  .60  |  .65  |  .70  |  .75  |  .80  |  .85  |  .90  |  .95  |\n",
      "-------+-------+-------+-------+-------+-------+-------+-------+-------+-------+-------+-------+\n",
      "   box | 37.34 | 55.41 | 55.05 | 54.57 | 50.88 | 47.73 | 41.55 | 36.16 | 23.08 |  7.55 |  1.40 |\n",
      "  mask | 41.08 | 54.19 | 54.02 | 53.25 | 51.95 | 49.31 | 47.09 | 40.13 | 32.28 | 22.17 |  6.43 |\n",
      "-------+-------+-------+-------+-------+-------+-------+-------+-------+-------+-------+-------+\n"
     ]
    }
   ],
   "source": [
    "!python3 eval.py --trained_model=weights/yolact_edge_lvis_lwf_2_42000.pth --disable_tensorrt --config=yolact_edge_config_lwf\n",
    "!python3 eval.py --trained_model=weights/yolact_edge_lvis_lwf_2_42000.pth --score_threshold=0.3 --disable_tensorrt --config=yolact_edge_lvis_config_lwf"
   ]
  },
  {
   "cell_type": "code",
   "execution_count": 2,
   "metadata": {
    "vscode": {
     "languageId": "shellscript"
    }
   },
   "outputs": [
    {
     "name": "stdout",
     "output_type": "stream",
     "text": [
      "/home/saicharanm22/.local/lib/python3.10/site-packages/torch/cuda/__init__.py:497: UserWarning: Can't initialize NVML\n",
      "  warnings.warn(\"Can't initialize NVML\")\n",
      "loading annotations into memory...\n",
      "Done (t=1.06s)\n",
      "creating index...\n",
      "index created!\n",
      "\u001b[32m[04/20 12:41:08 yolact.eval]: \u001b[0mLoading model...\n",
      "\u001b[32m[04/20 12:41:13 yolact.eval]: \u001b[0mModel loaded.\n",
      "\n",
      "Processing Images  ██████████████████████████████   4952 /   4952 (100.00%)     7.20 fps        \n",
      "Saving data...\n",
      "\u001b[32m[04/20 12:52:58 yolact.eval]: \u001b[0mCalculating mAP...\n",
      "\u001b[32m[04/20 12:52:59 yolact.eval]: \u001b[0m\n",
      "       |  all  |  .50  |  .55  |  .60  |  .65  |  .70  |  .75  |  .80  |  .85  |  .90  |  .95  |\n",
      "-------+-------+-------+-------+-------+-------+-------+-------+-------+-------+-------+-------+\n",
      "   box | 10.20 | 27.97 | 24.22 | 19.33 | 13.95 |  8.77 |  4.81 |  2.10 |  0.64 |  0.15 |  0.01 |\n",
      "  mask | 13.68 | 28.15 | 25.99 | 23.28 | 20.13 | 16.61 | 12.05 |  6.77 |  3.09 |  0.71 |  0.03 |\n",
      "-------+-------+-------+-------+-------+-------+-------+-------+-------+-------+-------+-------+\n",
      "/home/saicharanm22/.local/lib/python3.10/site-packages/torch/cuda/__init__.py:497: UserWarning: Can't initialize NVML\n",
      "  warnings.warn(\"Can't initialize NVML\")\n",
      "loading annotations into memory...\n",
      "Done (t=0.00s)\n",
      "creating index...\n",
      "index created!\n",
      "\u001b[32m[04/20 12:53:11 yolact.eval]: \u001b[0mLoading model...\n",
      "\u001b[32m[04/20 12:53:14 yolact.eval]: \u001b[0mModel loaded.\n",
      "\n",
      "Processing Images  ██████████████████████████████     65 /     65 (100.00%)     5.58 fps        \n",
      "Saving data...\n",
      "\u001b[32m[04/20 12:53:37 yolact.eval]: \u001b[0mCalculating mAP...\n",
      "\u001b[32m[04/20 12:53:37 yolact.eval]: \u001b[0m\n",
      "       |  all  |  .50  |  .55  |  .60  |  .65  |  .70  |  .75  |  .80  |  .85  |  .90  |  .95  |\n",
      "-------+-------+-------+-------+-------+-------+-------+-------+-------+-------+-------+-------+\n",
      "   box | 41.02 | 57.59 | 57.04 | 56.51 | 54.22 | 53.46 | 46.21 | 41.14 | 23.58 | 15.44 |  4.96 |\n",
      "  mask | 43.30 | 57.11 | 56.63 | 55.35 | 54.76 | 49.11 | 43.96 | 40.63 | 38.30 | 25.22 | 11.98 |\n",
      "-------+-------+-------+-------+-------+-------+-------+-------+-------+-------+-------+-------+\n",
      "/home/saicharanm22/.local/lib/python3.10/site-packages/torch/cuda/__init__.py:497: UserWarning: Can't initialize NVML\n",
      "  warnings.warn(\"Can't initialize NVML\")\n",
      "loading annotations into memory...\n",
      "Done (t=0.00s)\n",
      "creating index...\n",
      "index created!\n",
      "\u001b[32m[04/20 12:53:45 yolact.eval]: \u001b[0mLoading model...\n",
      "\u001b[32m[04/20 12:53:50 yolact.eval]: \u001b[0mModel loaded.\n",
      "\n",
      "Processing Images  ████████████████████████░░░░░░     54 /     65 (83.08%)     4.81 fps        Warning: Augmentation output an example with no ground truth. Resampling...\n",
      "Processing Images  ██████████████████████████████     65 /     65 (100.00%)     5.07 fps        \n",
      "Saving data...\n",
      "\u001b[32m[04/20 12:54:14 yolact.eval]: \u001b[0mCalculating mAP...\n",
      "\u001b[32m[04/20 12:54:14 yolact.eval]: \u001b[0m\n",
      "       |  all  |  .50  |  .55  |  .60  |  .65  |  .70  |  .75  |  .80  |  .85  |  .90  |  .95  |\n",
      "-------+-------+-------+-------+-------+-------+-------+-------+-------+-------+-------+-------+\n",
      "   box |  0.00 |  0.00 |  0.00 |  0.00 |  0.00 |  0.00 |  0.00 |  0.00 |  0.00 |  0.00 |  0.00 |\n",
      "  mask |  0.00 |  0.00 |  0.00 |  0.00 |  0.00 |  0.00 |  0.00 |  0.00 |  0.00 |  0.00 |  0.00 |\n",
      "-------+-------+-------+-------+-------+-------+-------+-------+-------+-------+-------+-------+\n"
     ]
    }
   ],
   "source": [
    "!python3 eval.py --trained_model=weights/yolact_edge_lvis_lwf_2_43000.pth --score_threshold=0.3 --disable_tensorrt --config=yolact_edge_config_lwf\n",
    "!python3 eval.py --trained_model=weights/yolact_edge_lvis_lwf_2_43000.pth --score_threshold=0.3 --disable_tensorrt --config=yolact_edge_lvis_config_lwf\n",
    "!python3 eval.py --trained_model=weights/yolact_edge_lvis_lwf_2_43000.pth --score_threshold=0.3 --disable_tensorrt --config=yolact_edge_lvis_config"
   ]
  },
  {
   "cell_type": "code",
   "execution_count": 1,
   "metadata": {
    "vscode": {
     "languageId": "shellscript"
    }
   },
   "outputs": [
    {
     "name": "stdout",
     "output_type": "stream",
     "text": [
      "/home/saicharanm22/.local/lib/python3.10/site-packages/torch/cuda/__init__.py:497: UserWarning: Can't initialize NVML\n",
      "  warnings.warn(\"Can't initialize NVML\")\n",
      "loading annotations into memory...\n",
      "Done (t=1.51s)\n",
      "creating index...\n",
      "index created!\n",
      "\u001b[32m[04/22 22:53:04 yolact.eval]: \u001b[0mLoading model...\n",
      "\u001b[32m[04/22 22:53:09 yolact.eval]: \u001b[0mModel loaded.\n",
      "\n",
      "Processing Images  ██████████████████████████████   4952 /   4952 (100.00%)     7.27 fps        \n",
      "Saving data...\n",
      "\u001b[32m[04/22 23:05:00 yolact.eval]: \u001b[0mCalculating mAP...\n",
      "\u001b[32m[04/22 23:05:18 yolact.eval]: \u001b[0m\n",
      "       |  all  |  .50  |  .55  |  .60  |  .65  |  .70  |  .75  |  .80  |  .85  |  .90  |  .95  |\n",
      "-------+-------+-------+-------+-------+-------+-------+-------+-------+-------+-------+-------+\n",
      "   box |  6.29 | 18.73 | 15.67 | 12.08 |  8.21 |  4.83 |  2.30 |  0.81 |  0.18 |  0.04 |  0.00 |\n",
      "  mask |  9.06 | 18.81 | 17.22 | 15.23 | 13.14 | 10.47 |  7.60 |  4.91 |  2.53 |  0.69 |  0.02 |\n",
      "-------+-------+-------+-------+-------+-------+-------+-------+-------+-------+-------+-------+\n",
      "/home/saicharanm22/.local/lib/python3.10/site-packages/torch/cuda/__init__.py:497: UserWarning: Can't initialize NVML\n",
      "  warnings.warn(\"Can't initialize NVML\")\n",
      "loading annotations into memory...\n",
      "Done (t=0.01s)\n",
      "creating index...\n",
      "index created!\n",
      "\u001b[32m[04/22 23:05:34 yolact.eval]: \u001b[0mLoading model...\n",
      "\u001b[32m[04/22 23:05:38 yolact.eval]: \u001b[0mModel loaded.\n",
      "\n",
      "Processing Images  ██████████████████████████████     65 /     65 (100.00%)     5.45 fps        \n",
      "Saving data...\n",
      "\u001b[32m[04/22 23:06:00 yolact.eval]: \u001b[0mCalculating mAP...\n",
      "\u001b[32m[04/22 23:06:00 yolact.eval]: \u001b[0m\n",
      "       |  all  |  .50  |  .55  |  .60  |  .65  |  .70  |  .75  |  .80  |  .85  |  .90  |  .95  |\n",
      "-------+-------+-------+-------+-------+-------+-------+-------+-------+-------+-------+-------+\n",
      "   box | 29.98 | 49.26 | 48.60 | 47.21 | 45.66 | 41.51 | 30.05 | 19.92 | 11.79 |  5.23 |  0.52 |\n",
      "  mask | 34.23 | 47.99 | 47.83 | 45.74 | 44.65 | 44.13 | 41.32 | 32.12 | 20.53 | 13.88 |  4.06 |\n",
      "-------+-------+-------+-------+-------+-------+-------+-------+-------+-------+-------+-------+\n",
      "/home/saicharanm22/.local/lib/python3.10/site-packages/torch/cuda/__init__.py:497: UserWarning: Can't initialize NVML\n",
      "  warnings.warn(\"Can't initialize NVML\")\n",
      "loading annotations into memory...\n",
      "Done (t=0.00s)\n",
      "creating index...\n",
      "index created!\n",
      "\u001b[32m[04/22 23:06:09 yolact.eval]: \u001b[0mLoading model...\n",
      "\u001b[32m[04/22 23:06:13 yolact.eval]: \u001b[0mModel loaded.\n",
      "\n",
      "Processing Images  ████████████████████████░░░░░░     54 /     65 (83.08%)     5.53 fps        Warning: Augmentation output an example with no ground truth. Resampling...\n",
      "Processing Images  ██████████████████████████████     65 /     65 (100.00%)     5.95 fps        \n",
      "Saving data...\n",
      "\u001b[32m[04/22 23:06:33 yolact.eval]: \u001b[0mCalculating mAP...\n",
      "\u001b[32m[04/22 23:06:33 yolact.eval]: \u001b[0m\n",
      "       |  all  |  .50  |  .55  |  .60  |  .65  |  .70  |  .75  |  .80  |  .85  |  .90  |  .95  |\n",
      "-------+-------+-------+-------+-------+-------+-------+-------+-------+-------+-------+-------+\n",
      "   box |  0.68 |  1.20 |  1.20 |  1.12 |  0.96 |  0.80 |  0.62 |  0.54 |  0.24 |  0.15 |  0.00 |\n",
      "  mask |  0.60 |  1.15 |  1.11 |  0.97 |  0.88 |  0.77 |  0.64 |  0.31 |  0.15 |  0.05 |  0.00 |\n",
      "-------+-------+-------+-------+-------+-------+-------+-------+-------+-------+-------+-------+\n"
     ]
    }
   ],
   "source": [
    "!python3 eval.py --trained_model=weights/yolact_edge_lvis_lwf_66_3000.pth --disable_tensorrt --config=yolact_edge_config_lwf\n",
    "!python3 eval.py --trained_model=weights/yolact_edge_lvis_lwf_66_3000.pth --score_threshold=0.3 --disable_tensorrt --config=yolact_edge_lvis_config_lwf\n",
    "!python3 eval.py --trained_model=weights/yolact_edge_lvis_lwf_66_3000.pth --score_threshold=0.95 --disable_tensorrt --config=yolact_edge_lvis_config"
   ]
  }
 ],
 "metadata": {
  "kernelspec": {
   "display_name": "Python 3",
   "language": "python",
   "name": "python3"
  },
  "language_info": {
   "codemirror_mode": {
    "name": "ipython",
    "version": 3
   },
   "file_extension": ".py",
   "mimetype": "text/x-python",
   "name": "python",
   "nbconvert_exporter": "python",
   "pygments_lexer": "ipython3",
   "version": "3.10.6"
  },
  "orig_nbformat": 4
 },
 "nbformat": 4,
 "nbformat_minor": 2
}
