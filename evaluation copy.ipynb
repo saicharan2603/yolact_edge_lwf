{
 "cells": [
  {
   "attachments": {},
   "cell_type": "markdown",
   "metadata": {},
   "source": [
    "## Evaluation of coco lvis model on old tasks"
   ]
  },
  {
   "cell_type": "code",
   "execution_count": 1,
   "metadata": {
    "vscode": {
     "languageId": "shellscript"
    }
   },
   "outputs": [
    {
     "name": "stdout",
     "output_type": "stream",
     "text": [
      "/home/saicharanm22/.local/lib/python3.10/site-packages/torch/cuda/__init__.py:497: UserWarning: Can't initialize NVML\n",
      "  warnings.warn(\"Can't initialize NVML\")\n",
      "loading annotations into memory...\n",
      "Done (t=1.54s)\n",
      "creating index...\n",
      "index created!\n",
      "\u001b[32m[04/23 16:04:09 yolact.eval]: \u001b[0mLoading model...\n",
      "\u001b[32m[04/23 16:04:13 yolact.eval]: \u001b[0mModel loaded.\n",
      "\n",
      "Processing Images  ██████████████████████████████   4952 /   4952 (100.00%)     7.71 fps        \n",
      "Saving data...\n",
      "\u001b[32m[04/23 16:15:13 yolact.eval]: \u001b[0mCalculating mAP...\n",
      "\u001b[32m[04/23 16:15:13 yolact.eval]: \u001b[0m\n",
      "       |  all  |  .50  |  .55  |  .60  |  .65  |  .70  |  .75  |  .80  |  .85  |  .90  |  .95  |\n",
      "-------+-------+-------+-------+-------+-------+-------+-------+-------+-------+-------+-------+\n",
      "   box | 10.77 | 29.45 | 25.79 | 20.56 | 14.57 |  9.47 |  4.98 |  2.18 |  0.62 |  0.11 |  0.00 |\n",
      "  mask | 14.55 | 29.08 | 27.13 | 24.53 | 21.27 | 17.52 | 13.00 |  8.10 |  4.03 |  0.83 |  0.02 |\n",
      "-------+-------+-------+-------+-------+-------+-------+-------+-------+-------+-------+-------+\n"
     ]
    }
   ],
   "source": [
    "!python3 eval.py --trained_model=weights/yolact_edge_lvis_lwf_2_40000.pth --score_threshold=0.3 --disable_tensorrt --config=yolact_edge_config_lwf"
   ]
  },
  {
   "attachments": {},
   "cell_type": "markdown",
   "metadata": {},
   "source": [
    "## Evaluation of coco lvis model on new tasks"
   ]
  },
  {
   "cell_type": "code",
   "execution_count": 2,
   "metadata": {
    "vscode": {
     "languageId": "shellscript"
    }
   },
   "outputs": [
    {
     "name": "stdout",
     "output_type": "stream",
     "text": [
      "/home/saicharanm22/.local/lib/python3.10/site-packages/torch/cuda/__init__.py:497: UserWarning: Can't initialize NVML\n",
      "  warnings.warn(\"Can't initialize NVML\")\n",
      "loading annotations into memory...\n",
      "Done (t=0.01s)\n",
      "creating index...\n",
      "index created!\n",
      "\u001b[32m[04/23 16:15:25 yolact.eval]: \u001b[0mLoading model...\n",
      "\u001b[32m[04/23 16:15:30 yolact.eval]: \u001b[0mModel loaded.\n",
      "\n",
      "Processing Images  ██████████████████████████████     65 /     65 (100.00%)     5.15 fps        \n",
      "Saving data...\n",
      "\u001b[32m[04/23 16:15:54 yolact.eval]: \u001b[0mCalculating mAP...\n",
      "\u001b[32m[04/23 16:15:54 yolact.eval]: \u001b[0m\n",
      "       |  all  |  .50  |  .55  |  .60  |  .65  |  .70  |  .75  |  .80  |  .85  |  .90  |  .95  |\n",
      "-------+-------+-------+-------+-------+-------+-------+-------+-------+-------+-------+-------+\n",
      "   box | 40.90 | 61.68 | 61.22 | 59.76 | 55.71 | 53.54 | 49.44 | 36.88 | 22.99 |  7.79 |  0.01 |\n",
      "  mask | 44.21 | 60.36 | 58.84 | 57.98 | 55.79 | 54.23 | 51.64 | 41.82 | 34.38 | 18.47 |  8.62 |\n",
      "-------+-------+-------+-------+-------+-------+-------+-------+-------+-------+-------+-------+\n"
     ]
    }
   ],
   "source": [
    "!python3 eval.py --trained_model=weights/yolact_edge_lvis_lwf_2_40000.pth --score_threshold=0.3 --disable_tensorrt --config=yolact_edge_lvis_config_lwf"
   ]
  }
 ],
 "metadata": {
  "kernelspec": {
   "display_name": "Python 3",
   "language": "python",
   "name": "python3"
  },
  "language_info": {
   "codemirror_mode": {
    "name": "ipython",
    "version": 3
   },
   "file_extension": ".py",
   "mimetype": "text/x-python",
   "name": "python",
   "nbconvert_exporter": "python",
   "pygments_lexer": "ipython3",
   "version": "3.10.6"
  },
  "orig_nbformat": 4
 },
 "nbformat": 4,
 "nbformat_minor": 2
}
