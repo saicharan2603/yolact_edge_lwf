{
 "cells": [
  {
   "cell_type": "code",
   "execution_count": 21,
   "metadata": {},
   "outputs": [
    {
     "name": "stdout",
     "output_type": "stream",
     "text": [
      "/home/saicharanm22/.local/lib/python3.10/site-packages/torch/cuda/__init__.py:497: UserWarning: Can't initialize NVML\n",
      "  warnings.warn(\"Can't initialize NVML\")\n",
      "\u001b[32m[04/19 23:32:14 yolact.eval]: \u001b[0mLoading model...\n",
      "\u001b[32m[04/19 23:32:20 yolact.eval]: \u001b[0mModel loaded.\n"
     ]
    }
   ],
   "source": [
    "!python3 eval.py --trained_model=weights_copy/yolact_edge_lvis_lwf_66_3000.pth --config=yolact_edge_lvis_config --score_threshold=0.3 --top_k=100 --image=data/coco/images/000000006763.jpg:ac1.png --disable_tensorrt "
   ]
  },
  {
   "cell_type": "code",
   "execution_count": 22,
   "metadata": {},
   "outputs": [
    {
     "name": "stdout",
     "output_type": "stream",
     "text": [
      "/home/saicharanm22/.local/lib/python3.10/site-packages/torch/cuda/__init__.py:497: UserWarning: Can't initialize NVML\n",
      "  warnings.warn(\"Can't initialize NVML\")\n",
      "\u001b[32m[04/19 23:35:08 yolact.eval]: \u001b[0mLoading model...\n",
      "\u001b[32m[04/19 23:35:13 yolact.eval]: \u001b[0mModel loaded.\n"
     ]
    }
   ],
   "source": [
    "!python3 eval.py --trained_model=weights_copy/yolact_edge_lvis_lwf_66_3000.pth --config=yolact_edge_lvis_config --score_threshold=0.3 --top_k=100 --image=internet.jpg:internet_out.jpg --disable_tensorrt "
   ]
  }
 ],
 "metadata": {
  "kernelspec": {
   "display_name": "Python 3",
   "language": "python",
   "name": "python3"
  },
  "language_info": {
   "codemirror_mode": {
    "name": "ipython",
    "version": 3
   },
   "file_extension": ".py",
   "mimetype": "text/x-python",
   "name": "python",
   "nbconvert_exporter": "python",
   "pygments_lexer": "ipython3",
   "version": "3.10.6"
  },
  "orig_nbformat": 4
 },
 "nbformat": 4,
 "nbformat_minor": 2
}
